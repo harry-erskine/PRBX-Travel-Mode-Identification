{
  "nbformat": 4,
  "nbformat_minor": 0,
  "metadata": {
    "colab": {
      "provenance": [],
      "collapsed_sections": [
        "K4oaIySoMn6B",
        "xZaoeiTQ8rFC"
      ],
      "machine_shape": "hm",
      "gpuType": "L4",
      "include_colab_link": true
    },
    "kernelspec": {
      "name": "python3",
      "display_name": "Python 3"
    },
    "language_info": {
      "name": "python"
    },
    "accelerator": "GPU"
  },
  "cells": [
    {
      "cell_type": "markdown",
      "metadata": {
        "id": "view-in-github",
        "colab_type": "text"
      },
      "source": [
        "<a href=\"https://colab.research.google.com/github/harry-erskine/PRBX-Travel-Mode-Identification/blob/main/Source%20Code/Convoluted%20Neural%20Networks/CNN_with_group_size_of_64.ipynb\" target=\"_parent\"><img src=\"https://colab.research.google.com/assets/colab-badge.svg\" alt=\"Open In Colab\"/></a>"
      ]
    },
    {
      "cell_type": "markdown",
      "source": [
        "## **ML - Convolutional Neural Network**"
      ],
      "metadata": {
        "id": "NyBrjfOS5Jis"
      }
    },
    {
      "cell_type": "markdown",
      "source": [
        "### **Data Preferences**"
      ],
      "metadata": {
        "id": "9-soFKGvM09J"
      }
    },
    {
      "cell_type": "code",
      "execution_count": null,
      "metadata": {
        "id": "XxbFTVLI5IhX"
      },
      "outputs": [],
      "source": [
        "### VARIABLES ###\n",
        "\n",
        "groupSize = 64                  # How many trajectories are represented in each group\n",
        "motion_points = groupSize - 3    # Do not change this variable\n",
        "\n",
        "# variables below all 'True' or 'False' (where all 'False' represents the most filtered version of the data)\n",
        "\n",
        "include_impossible_groups = False      # include groups with trajectories that I have deemed to be invalid\n",
        "include_stationary_groups = False      # include groups where there is less than 3 meters of total movement\n",
        "include_airplane_and_boat = False      # include groups where the mode of transportation was 'airplane' or 'boat'\n",
        "include_all_time_ranges = True        # include groups where the time between each trajectory is more than 1 second"
      ]
    },
    {
      "cell_type": "markdown",
      "source": [
        "### **Notebook Setup**"
      ],
      "metadata": {
        "id": "K4oaIySoMn6B"
      }
    },
    {
      "cell_type": "code",
      "source": [
        "### INSTALLS ###\n",
        "\n",
        "# !pip install --upgrade gspread\n",
        "# !pip install pandas\n",
        "# !pip install scikit-learn\n",
        "# !pip install tensorflow"
      ],
      "metadata": {
        "id": "Nv-xlIhf5k_A"
      },
      "execution_count": null,
      "outputs": []
    },
    {
      "cell_type": "code",
      "source": [
        "### IMPORTS ###\n",
        "\n",
        "import os\n",
        "from google.colab import drive\n",
        "import pandas as pd\n",
        "import numpy as np\n",
        "import time\n",
        "#\n",
        "import seaborn as sns\n",
        "import matplotlib.pyplot as plt\n",
        "#from sklearn.preprocessing import LabelEncoder\n",
        "from sklearn.model_selection import train_test_split\n",
        "# import graphviz\n",
        "# from sklearn import metrics, tree\n",
        "from sklearn.metrics import confusion_matrix, classification_report\n",
        "# from sklearn.svm import SVC\n",
        "import tensorflow as tf\n",
        "from tensorflow.keras import layers, models\n",
        "#\n",
        "# import torch\n",
        "# from torch import nn\n",
        "# from torch.utils.data import DataLoader\n",
        "# from torchvision import datasets\n",
        "# import torchvision.transforms as transforms\n",
        "# import torch.nn.functional as F"
      ],
      "metadata": {
        "id": "XnI98A1s5lfa"
      },
      "execution_count": null,
      "outputs": []
    },
    {
      "cell_type": "code",
      "source": [
        "### MOUNT GOOGLE DRIVE ###\n",
        "\n",
        "mainMountPath = '/content/gdrive'\n",
        "mainDrivePath = '/content/gdrive/MyDrive/Colab Notebooks/PRBX'\n",
        "\n",
        "drive.mount(mainMountPath, force_remount=True)"
      ],
      "metadata": {
        "colab": {
          "base_uri": "https://localhost:8080/"
        },
        "id": "TLHjfMJK5t-P",
        "outputId": "68926019-e89c-42f7-d15e-37039d38b4ad"
      },
      "execution_count": null,
      "outputs": [
        {
          "output_type": "stream",
          "name": "stdout",
          "text": [
            "Mounted at /content/gdrive\n"
          ]
        }
      ]
    },
    {
      "cell_type": "code",
      "source": [
        "### FILE PATHS ###\n",
        "\n",
        "generatedFilesPath = mainDrivePath + '/Data Files/Generated Files'\n",
        "cleanedMotionDataPath = generatedFilesPath + '/cleanedMotionDataX' + str(groupSize) + '.csv'"
      ],
      "metadata": {
        "id": "afNnC4mU5vhn"
      },
      "execution_count": null,
      "outputs": []
    },
    {
      "cell_type": "code",
      "source": [
        "cmdf = pd.read_csv(cleanedMotionDataPath)\n",
        "cmdf = cmdf.drop('Unnamed: 0', axis=1)"
      ],
      "metadata": {
        "id": "cjTdcMAgSse9"
      },
      "execution_count": null,
      "outputs": []
    },
    {
      "cell_type": "code",
      "source": [
        "df = cmdf\n",
        "\n",
        "if include_impossible_groups == False:\n",
        "  df = df[df['Impossible'] == False]\n",
        "\n",
        "if include_stationary_groups == False:\n",
        "  df = df[df['Stationary'] == False]\n",
        "\n",
        "if include_airplane_and_boat == False:\n",
        "  df.drop(df[df['Mode'] == 'airplane'].index, inplace=True)\n",
        "  df.drop(df[df['Mode'] == 'boat'].index, inplace=True)\n",
        "\n",
        "if include_all_time_ranges == False:\n",
        "  df = df[df['DT Max'] == 1]\n",
        "\n",
        "df"
      ],
      "metadata": {
        "colab": {
          "base_uri": "https://localhost:8080/"
        },
        "id": "NIalbUj26_0q",
        "outputId": "e9973586-4ba4-4daa-e2c7-f1016e226ba6"
      },
      "execution_count": null,
      "outputs": [
        {
          "output_type": "execute_result",
          "data": {
            "text/plain": [
              "       GroupId  UserId   Mode Old Mode         S0         S1         S2  \\\n",
              "0            1      10   walk     walk   1.290664   1.224914   1.376708   \n",
              "1            2      10   walk     walk   0.681000   0.688277   1.038191   \n",
              "2            3      10   walk     walk   1.248763   1.224931   1.248763   \n",
              "3            4      10    car     taxi   2.929182   2.251940   2.789066   \n",
              "4            5      10    car     taxi   5.604982   5.110029   5.593743   \n",
              "...        ...     ...    ...      ...        ...        ...        ...   \n",
              "54703    54704     179   walk     walk   0.580804   0.350055   0.256300   \n",
              "54704    54705     179  train   subway  17.207388  18.453417  18.690503   \n",
              "54705    54706     179  train   subway   1.812836   3.695013   6.378706   \n",
              "54706    54707     179  train   subway   3.702988   2.356879   1.413526   \n",
              "54707    54708     179  train   subway  16.957655  17.201896  17.254880   \n",
              "\n",
              "              S3         S4         S5  ...  AA RC6  BR RC0  BR RC1  BR RC2  \\\n",
              "0       1.204619   1.224677   0.819108  ...       1      25      16      13   \n",
              "1       0.922671   0.688277   0.884311  ...       0      31      15      14   \n",
              "2       1.038498   1.203524   1.140418  ...       2      30       8      17   \n",
              "3       3.139866   4.168532   4.373653  ...       1      24      18      14   \n",
              "4       4.934521   6.768173   6.461606  ...       1      48       8       4   \n",
              "...          ...        ...        ...  ...     ...     ...     ...     ...   \n",
              "54703   0.446187   0.569735   0.280044  ...       0      21      18       6   \n",
              "54704  19.779781  22.606373  22.056521  ...       0      54       1       3   \n",
              "54705   9.826695  15.875429  17.510840  ...       0      59       1       1   \n",
              "54706   1.759520   1.100953   0.810423  ...       0      41       8       4   \n",
              "54707  17.084341  17.270563  18.110708  ...       0      61       0       0   \n",
              "\n",
              "       BR RC3  BR RC4  BR RC5  BR RC6  Impossible  Stationary  \n",
              "0           4       0       0       3       False       False  \n",
              "1           1       0       0       0       False       False  \n",
              "2           6       0       0       0       False       False  \n",
              "3           4       0       0       1       False       False  \n",
              "4           1       0       0       0       False       False  \n",
              "...       ...     ...     ...     ...         ...         ...  \n",
              "54703       1       3       3       9       False       False  \n",
              "54704       0       2       1       0       False       False  \n",
              "54705       0       0       0       0       False       False  \n",
              "54706       1       2       2       3       False       False  \n",
              "54707       0       0       0       0       False       False  \n",
              "\n",
              "[51601 rows x 466 columns]"
            ],
            "text/html": [
              "\n",
              "  <div id=\"df-4f17f1ca-23f9-4b88-986b-59d3d650f0f7\" class=\"colab-df-container\">\n",
              "    <div>\n",
              "<style scoped>\n",
              "    .dataframe tbody tr th:only-of-type {\n",
              "        vertical-align: middle;\n",
              "    }\n",
              "\n",
              "    .dataframe tbody tr th {\n",
              "        vertical-align: top;\n",
              "    }\n",
              "\n",
              "    .dataframe thead th {\n",
              "        text-align: right;\n",
              "    }\n",
              "</style>\n",
              "<table border=\"1\" class=\"dataframe\">\n",
              "  <thead>\n",
              "    <tr style=\"text-align: right;\">\n",
              "      <th></th>\n",
              "      <th>GroupId</th>\n",
              "      <th>UserId</th>\n",
              "      <th>Mode</th>\n",
              "      <th>Old Mode</th>\n",
              "      <th>S0</th>\n",
              "      <th>S1</th>\n",
              "      <th>S2</th>\n",
              "      <th>S3</th>\n",
              "      <th>S4</th>\n",
              "      <th>S5</th>\n",
              "      <th>...</th>\n",
              "      <th>AA RC6</th>\n",
              "      <th>BR RC0</th>\n",
              "      <th>BR RC1</th>\n",
              "      <th>BR RC2</th>\n",
              "      <th>BR RC3</th>\n",
              "      <th>BR RC4</th>\n",
              "      <th>BR RC5</th>\n",
              "      <th>BR RC6</th>\n",
              "      <th>Impossible</th>\n",
              "      <th>Stationary</th>\n",
              "    </tr>\n",
              "  </thead>\n",
              "  <tbody>\n",
              "    <tr>\n",
              "      <th>0</th>\n",
              "      <td>1</td>\n",
              "      <td>10</td>\n",
              "      <td>walk</td>\n",
              "      <td>walk</td>\n",
              "      <td>1.290664</td>\n",
              "      <td>1.224914</td>\n",
              "      <td>1.376708</td>\n",
              "      <td>1.204619</td>\n",
              "      <td>1.224677</td>\n",
              "      <td>0.819108</td>\n",
              "      <td>...</td>\n",
              "      <td>1</td>\n",
              "      <td>25</td>\n",
              "      <td>16</td>\n",
              "      <td>13</td>\n",
              "      <td>4</td>\n",
              "      <td>0</td>\n",
              "      <td>0</td>\n",
              "      <td>3</td>\n",
              "      <td>False</td>\n",
              "      <td>False</td>\n",
              "    </tr>\n",
              "    <tr>\n",
              "      <th>1</th>\n",
              "      <td>2</td>\n",
              "      <td>10</td>\n",
              "      <td>walk</td>\n",
              "      <td>walk</td>\n",
              "      <td>0.681000</td>\n",
              "      <td>0.688277</td>\n",
              "      <td>1.038191</td>\n",
              "      <td>0.922671</td>\n",
              "      <td>0.688277</td>\n",
              "      <td>0.884311</td>\n",
              "      <td>...</td>\n",
              "      <td>0</td>\n",
              "      <td>31</td>\n",
              "      <td>15</td>\n",
              "      <td>14</td>\n",
              "      <td>1</td>\n",
              "      <td>0</td>\n",
              "      <td>0</td>\n",
              "      <td>0</td>\n",
              "      <td>False</td>\n",
              "      <td>False</td>\n",
              "    </tr>\n",
              "    <tr>\n",
              "      <th>2</th>\n",
              "      <td>3</td>\n",
              "      <td>10</td>\n",
              "      <td>walk</td>\n",
              "      <td>walk</td>\n",
              "      <td>1.248763</td>\n",
              "      <td>1.224931</td>\n",
              "      <td>1.248763</td>\n",
              "      <td>1.038498</td>\n",
              "      <td>1.203524</td>\n",
              "      <td>1.140418</td>\n",
              "      <td>...</td>\n",
              "      <td>2</td>\n",
              "      <td>30</td>\n",
              "      <td>8</td>\n",
              "      <td>17</td>\n",
              "      <td>6</td>\n",
              "      <td>0</td>\n",
              "      <td>0</td>\n",
              "      <td>0</td>\n",
              "      <td>False</td>\n",
              "      <td>False</td>\n",
              "    </tr>\n",
              "    <tr>\n",
              "      <th>3</th>\n",
              "      <td>4</td>\n",
              "      <td>10</td>\n",
              "      <td>car</td>\n",
              "      <td>taxi</td>\n",
              "      <td>2.929182</td>\n",
              "      <td>2.251940</td>\n",
              "      <td>2.789066</td>\n",
              "      <td>3.139866</td>\n",
              "      <td>4.168532</td>\n",
              "      <td>4.373653</td>\n",
              "      <td>...</td>\n",
              "      <td>1</td>\n",
              "      <td>24</td>\n",
              "      <td>18</td>\n",
              "      <td>14</td>\n",
              "      <td>4</td>\n",
              "      <td>0</td>\n",
              "      <td>0</td>\n",
              "      <td>1</td>\n",
              "      <td>False</td>\n",
              "      <td>False</td>\n",
              "    </tr>\n",
              "    <tr>\n",
              "      <th>4</th>\n",
              "      <td>5</td>\n",
              "      <td>10</td>\n",
              "      <td>car</td>\n",
              "      <td>taxi</td>\n",
              "      <td>5.604982</td>\n",
              "      <td>5.110029</td>\n",
              "      <td>5.593743</td>\n",
              "      <td>4.934521</td>\n",
              "      <td>6.768173</td>\n",
              "      <td>6.461606</td>\n",
              "      <td>...</td>\n",
              "      <td>1</td>\n",
              "      <td>48</td>\n",
              "      <td>8</td>\n",
              "      <td>4</td>\n",
              "      <td>1</td>\n",
              "      <td>0</td>\n",
              "      <td>0</td>\n",
              "      <td>0</td>\n",
              "      <td>False</td>\n",
              "      <td>False</td>\n",
              "    </tr>\n",
              "    <tr>\n",
              "      <th>...</th>\n",
              "      <td>...</td>\n",
              "      <td>...</td>\n",
              "      <td>...</td>\n",
              "      <td>...</td>\n",
              "      <td>...</td>\n",
              "      <td>...</td>\n",
              "      <td>...</td>\n",
              "      <td>...</td>\n",
              "      <td>...</td>\n",
              "      <td>...</td>\n",
              "      <td>...</td>\n",
              "      <td>...</td>\n",
              "      <td>...</td>\n",
              "      <td>...</td>\n",
              "      <td>...</td>\n",
              "      <td>...</td>\n",
              "      <td>...</td>\n",
              "      <td>...</td>\n",
              "      <td>...</td>\n",
              "      <td>...</td>\n",
              "      <td>...</td>\n",
              "    </tr>\n",
              "    <tr>\n",
              "      <th>54703</th>\n",
              "      <td>54704</td>\n",
              "      <td>179</td>\n",
              "      <td>walk</td>\n",
              "      <td>walk</td>\n",
              "      <td>0.580804</td>\n",
              "      <td>0.350055</td>\n",
              "      <td>0.256300</td>\n",
              "      <td>0.446187</td>\n",
              "      <td>0.569735</td>\n",
              "      <td>0.280044</td>\n",
              "      <td>...</td>\n",
              "      <td>0</td>\n",
              "      <td>21</td>\n",
              "      <td>18</td>\n",
              "      <td>6</td>\n",
              "      <td>1</td>\n",
              "      <td>3</td>\n",
              "      <td>3</td>\n",
              "      <td>9</td>\n",
              "      <td>False</td>\n",
              "      <td>False</td>\n",
              "    </tr>\n",
              "    <tr>\n",
              "      <th>54704</th>\n",
              "      <td>54705</td>\n",
              "      <td>179</td>\n",
              "      <td>train</td>\n",
              "      <td>subway</td>\n",
              "      <td>17.207388</td>\n",
              "      <td>18.453417</td>\n",
              "      <td>18.690503</td>\n",
              "      <td>19.779781</td>\n",
              "      <td>22.606373</td>\n",
              "      <td>22.056521</td>\n",
              "      <td>...</td>\n",
              "      <td>0</td>\n",
              "      <td>54</td>\n",
              "      <td>1</td>\n",
              "      <td>3</td>\n",
              "      <td>0</td>\n",
              "      <td>2</td>\n",
              "      <td>1</td>\n",
              "      <td>0</td>\n",
              "      <td>False</td>\n",
              "      <td>False</td>\n",
              "    </tr>\n",
              "    <tr>\n",
              "      <th>54705</th>\n",
              "      <td>54706</td>\n",
              "      <td>179</td>\n",
              "      <td>train</td>\n",
              "      <td>subway</td>\n",
              "      <td>1.812836</td>\n",
              "      <td>3.695013</td>\n",
              "      <td>6.378706</td>\n",
              "      <td>9.826695</td>\n",
              "      <td>15.875429</td>\n",
              "      <td>17.510840</td>\n",
              "      <td>...</td>\n",
              "      <td>0</td>\n",
              "      <td>59</td>\n",
              "      <td>1</td>\n",
              "      <td>1</td>\n",
              "      <td>0</td>\n",
              "      <td>0</td>\n",
              "      <td>0</td>\n",
              "      <td>0</td>\n",
              "      <td>False</td>\n",
              "      <td>False</td>\n",
              "    </tr>\n",
              "    <tr>\n",
              "      <th>54706</th>\n",
              "      <td>54707</td>\n",
              "      <td>179</td>\n",
              "      <td>train</td>\n",
              "      <td>subway</td>\n",
              "      <td>3.702988</td>\n",
              "      <td>2.356879</td>\n",
              "      <td>1.413526</td>\n",
              "      <td>1.759520</td>\n",
              "      <td>1.100953</td>\n",
              "      <td>0.810423</td>\n",
              "      <td>...</td>\n",
              "      <td>0</td>\n",
              "      <td>41</td>\n",
              "      <td>8</td>\n",
              "      <td>4</td>\n",
              "      <td>1</td>\n",
              "      <td>2</td>\n",
              "      <td>2</td>\n",
              "      <td>3</td>\n",
              "      <td>False</td>\n",
              "      <td>False</td>\n",
              "    </tr>\n",
              "    <tr>\n",
              "      <th>54707</th>\n",
              "      <td>54708</td>\n",
              "      <td>179</td>\n",
              "      <td>train</td>\n",
              "      <td>subway</td>\n",
              "      <td>16.957655</td>\n",
              "      <td>17.201896</td>\n",
              "      <td>17.254880</td>\n",
              "      <td>17.084341</td>\n",
              "      <td>17.270563</td>\n",
              "      <td>18.110708</td>\n",
              "      <td>...</td>\n",
              "      <td>0</td>\n",
              "      <td>61</td>\n",
              "      <td>0</td>\n",
              "      <td>0</td>\n",
              "      <td>0</td>\n",
              "      <td>0</td>\n",
              "      <td>0</td>\n",
              "      <td>0</td>\n",
              "      <td>False</td>\n",
              "      <td>False</td>\n",
              "    </tr>\n",
              "  </tbody>\n",
              "</table>\n",
              "<p>51601 rows × 466 columns</p>\n",
              "</div>\n",
              "    <div class=\"colab-df-buttons\">\n",
              "\n",
              "  <div class=\"colab-df-container\">\n",
              "    <button class=\"colab-df-convert\" onclick=\"convertToInteractive('df-4f17f1ca-23f9-4b88-986b-59d3d650f0f7')\"\n",
              "            title=\"Convert this dataframe to an interactive table.\"\n",
              "            style=\"display:none;\">\n",
              "\n",
              "  <svg xmlns=\"http://www.w3.org/2000/svg\" height=\"24px\" viewBox=\"0 -960 960 960\">\n",
              "    <path d=\"M120-120v-720h720v720H120Zm60-500h600v-160H180v160Zm220 220h160v-160H400v160Zm0 220h160v-160H400v160ZM180-400h160v-160H180v160Zm440 0h160v-160H620v160ZM180-180h160v-160H180v160Zm440 0h160v-160H620v160Z\"/>\n",
              "  </svg>\n",
              "    </button>\n",
              "\n",
              "  <style>\n",
              "    .colab-df-container {\n",
              "      display:flex;\n",
              "      gap: 12px;\n",
              "    }\n",
              "\n",
              "    .colab-df-convert {\n",
              "      background-color: #E8F0FE;\n",
              "      border: none;\n",
              "      border-radius: 50%;\n",
              "      cursor: pointer;\n",
              "      display: none;\n",
              "      fill: #1967D2;\n",
              "      height: 32px;\n",
              "      padding: 0 0 0 0;\n",
              "      width: 32px;\n",
              "    }\n",
              "\n",
              "    .colab-df-convert:hover {\n",
              "      background-color: #E2EBFA;\n",
              "      box-shadow: 0px 1px 2px rgba(60, 64, 67, 0.3), 0px 1px 3px 1px rgba(60, 64, 67, 0.15);\n",
              "      fill: #174EA6;\n",
              "    }\n",
              "\n",
              "    .colab-df-buttons div {\n",
              "      margin-bottom: 4px;\n",
              "    }\n",
              "\n",
              "    [theme=dark] .colab-df-convert {\n",
              "      background-color: #3B4455;\n",
              "      fill: #D2E3FC;\n",
              "    }\n",
              "\n",
              "    [theme=dark] .colab-df-convert:hover {\n",
              "      background-color: #434B5C;\n",
              "      box-shadow: 0px 1px 3px 1px rgba(0, 0, 0, 0.15);\n",
              "      filter: drop-shadow(0px 1px 2px rgba(0, 0, 0, 0.3));\n",
              "      fill: #FFFFFF;\n",
              "    }\n",
              "  </style>\n",
              "\n",
              "    <script>\n",
              "      const buttonEl =\n",
              "        document.querySelector('#df-4f17f1ca-23f9-4b88-986b-59d3d650f0f7 button.colab-df-convert');\n",
              "      buttonEl.style.display =\n",
              "        google.colab.kernel.accessAllowed ? 'block' : 'none';\n",
              "\n",
              "      async function convertToInteractive(key) {\n",
              "        const element = document.querySelector('#df-4f17f1ca-23f9-4b88-986b-59d3d650f0f7');\n",
              "        const dataTable =\n",
              "          await google.colab.kernel.invokeFunction('convertToInteractive',\n",
              "                                                    [key], {});\n",
              "        if (!dataTable) return;\n",
              "\n",
              "        const docLinkHtml = 'Like what you see? Visit the ' +\n",
              "          '<a target=\"_blank\" href=https://colab.research.google.com/notebooks/data_table.ipynb>data table notebook</a>'\n",
              "          + ' to learn more about interactive tables.';\n",
              "        element.innerHTML = '';\n",
              "        dataTable['output_type'] = 'display_data';\n",
              "        await google.colab.output.renderOutput(dataTable, element);\n",
              "        const docLink = document.createElement('div');\n",
              "        docLink.innerHTML = docLinkHtml;\n",
              "        element.appendChild(docLink);\n",
              "      }\n",
              "    </script>\n",
              "  </div>\n",
              "\n",
              "\n",
              "<div id=\"df-56ec7b92-4948-44c0-a486-4e26d9cadbcf\">\n",
              "  <button class=\"colab-df-quickchart\" onclick=\"quickchart('df-56ec7b92-4948-44c0-a486-4e26d9cadbcf')\"\n",
              "            title=\"Suggest charts\"\n",
              "            style=\"display:none;\">\n",
              "\n",
              "<svg xmlns=\"http://www.w3.org/2000/svg\" height=\"24px\"viewBox=\"0 0 24 24\"\n",
              "     width=\"24px\">\n",
              "    <g>\n",
              "        <path d=\"M19 3H5c-1.1 0-2 .9-2 2v14c0 1.1.9 2 2 2h14c1.1 0 2-.9 2-2V5c0-1.1-.9-2-2-2zM9 17H7v-7h2v7zm4 0h-2V7h2v10zm4 0h-2v-4h2v4z\"/>\n",
              "    </g>\n",
              "</svg>\n",
              "  </button>\n",
              "\n",
              "<style>\n",
              "  .colab-df-quickchart {\n",
              "      --bg-color: #E8F0FE;\n",
              "      --fill-color: #1967D2;\n",
              "      --hover-bg-color: #E2EBFA;\n",
              "      --hover-fill-color: #174EA6;\n",
              "      --disabled-fill-color: #AAA;\n",
              "      --disabled-bg-color: #DDD;\n",
              "  }\n",
              "\n",
              "  [theme=dark] .colab-df-quickchart {\n",
              "      --bg-color: #3B4455;\n",
              "      --fill-color: #D2E3FC;\n",
              "      --hover-bg-color: #434B5C;\n",
              "      --hover-fill-color: #FFFFFF;\n",
              "      --disabled-bg-color: #3B4455;\n",
              "      --disabled-fill-color: #666;\n",
              "  }\n",
              "\n",
              "  .colab-df-quickchart {\n",
              "    background-color: var(--bg-color);\n",
              "    border: none;\n",
              "    border-radius: 50%;\n",
              "    cursor: pointer;\n",
              "    display: none;\n",
              "    fill: var(--fill-color);\n",
              "    height: 32px;\n",
              "    padding: 0;\n",
              "    width: 32px;\n",
              "  }\n",
              "\n",
              "  .colab-df-quickchart:hover {\n",
              "    background-color: var(--hover-bg-color);\n",
              "    box-shadow: 0 1px 2px rgba(60, 64, 67, 0.3), 0 1px 3px 1px rgba(60, 64, 67, 0.15);\n",
              "    fill: var(--button-hover-fill-color);\n",
              "  }\n",
              "\n",
              "  .colab-df-quickchart-complete:disabled,\n",
              "  .colab-df-quickchart-complete:disabled:hover {\n",
              "    background-color: var(--disabled-bg-color);\n",
              "    fill: var(--disabled-fill-color);\n",
              "    box-shadow: none;\n",
              "  }\n",
              "\n",
              "  .colab-df-spinner {\n",
              "    border: 2px solid var(--fill-color);\n",
              "    border-color: transparent;\n",
              "    border-bottom-color: var(--fill-color);\n",
              "    animation:\n",
              "      spin 1s steps(1) infinite;\n",
              "  }\n",
              "\n",
              "  @keyframes spin {\n",
              "    0% {\n",
              "      border-color: transparent;\n",
              "      border-bottom-color: var(--fill-color);\n",
              "      border-left-color: var(--fill-color);\n",
              "    }\n",
              "    20% {\n",
              "      border-color: transparent;\n",
              "      border-left-color: var(--fill-color);\n",
              "      border-top-color: var(--fill-color);\n",
              "    }\n",
              "    30% {\n",
              "      border-color: transparent;\n",
              "      border-left-color: var(--fill-color);\n",
              "      border-top-color: var(--fill-color);\n",
              "      border-right-color: var(--fill-color);\n",
              "    }\n",
              "    40% {\n",
              "      border-color: transparent;\n",
              "      border-right-color: var(--fill-color);\n",
              "      border-top-color: var(--fill-color);\n",
              "    }\n",
              "    60% {\n",
              "      border-color: transparent;\n",
              "      border-right-color: var(--fill-color);\n",
              "    }\n",
              "    80% {\n",
              "      border-color: transparent;\n",
              "      border-right-color: var(--fill-color);\n",
              "      border-bottom-color: var(--fill-color);\n",
              "    }\n",
              "    90% {\n",
              "      border-color: transparent;\n",
              "      border-bottom-color: var(--fill-color);\n",
              "    }\n",
              "  }\n",
              "</style>\n",
              "\n",
              "  <script>\n",
              "    async function quickchart(key) {\n",
              "      const quickchartButtonEl =\n",
              "        document.querySelector('#' + key + ' button');\n",
              "      quickchartButtonEl.disabled = true;  // To prevent multiple clicks.\n",
              "      quickchartButtonEl.classList.add('colab-df-spinner');\n",
              "      try {\n",
              "        const charts = await google.colab.kernel.invokeFunction(\n",
              "            'suggestCharts', [key], {});\n",
              "      } catch (error) {\n",
              "        console.error('Error during call to suggestCharts:', error);\n",
              "      }\n",
              "      quickchartButtonEl.classList.remove('colab-df-spinner');\n",
              "      quickchartButtonEl.classList.add('colab-df-quickchart-complete');\n",
              "    }\n",
              "    (() => {\n",
              "      let quickchartButtonEl =\n",
              "        document.querySelector('#df-56ec7b92-4948-44c0-a486-4e26d9cadbcf button');\n",
              "      quickchartButtonEl.style.display =\n",
              "        google.colab.kernel.accessAllowed ? 'block' : 'none';\n",
              "    })();\n",
              "  </script>\n",
              "</div>\n",
              "    </div>\n",
              "  </div>\n"
            ],
            "application/vnd.google.colaboratory.intrinsic+json": {
              "type": "dataframe",
              "variable_name": "df"
            }
          },
          "metadata": {},
          "execution_count": 7
        }
      ]
    },
    {
      "cell_type": "code",
      "source": [
        "print(df['Mode'].unique())"
      ],
      "metadata": {
        "colab": {
          "base_uri": "https://localhost:8080/"
        },
        "id": "Di_y_D6ACpq8",
        "outputId": "cf49caf9-5d28-4ba4-cc5f-4c8b8309ce2a"
      },
      "execution_count": null,
      "outputs": [
        {
          "output_type": "stream",
          "name": "stdout",
          "text": [
            "['walk' 'car' 'bus' 'train' 'bike']\n"
          ]
        }
      ]
    },
    {
      "cell_type": "code",
      "source": [
        "# Names of raw motion features\n",
        "raw_speed_features =          [f'S{i}' for i in range(motion_points)]\n",
        "raw_acceleration_features =   [f'A{i}' for i in range(motion_points)]\n",
        "raw_jerk_features =           [f'J{i}' for i in range(motion_points)]\n",
        "raw_alti_velocity_features =  [f'AV{i}' for i in range(motion_points)]\n",
        "raw_alti_accel_features =     [f'AA{i}' for i in range(motion_points)]\n",
        "raw_bearing_rate_features =   [f'BR{i}' for i in range(motion_points)]\n",
        "\n",
        "raw_motion_features = raw_speed_features + raw_acceleration_features + raw_jerk_features + \\\n",
        "                      raw_alti_velocity_features + raw_bearing_rate_features"
      ],
      "metadata": {
        "id": "dNREBbJYXBQ-"
      },
      "execution_count": null,
      "outputs": []
    },
    {
      "cell_type": "markdown",
      "source": [
        "#### features that aren't used by the CNN"
      ],
      "metadata": {
        "id": "xZaoeiTQ8rFC"
      }
    },
    {
      "cell_type": "code",
      "source": [
        "# # Names of derived motion features\n",
        "# derived_speed_features =          ['S Min', 'S 25% Q', 'S Mean', 'S Median', 'S 75% Q', 'S Max', 'S Range', 'S IQR']\n",
        "# derived_acceleration_features =   ['A Min', 'A 25% Q', 'A Mean', 'A Median', 'A 75% Q', 'A Max', 'A Range', 'A IQR']\n",
        "# derived_jerk_features =           ['J Min', 'J 25% Q', 'J Mean', 'J Median', 'J 75% Q', 'J Max', 'J Range', 'J IQR']\n",
        "# derived_alti_velocity_features =  ['AV Min', 'AV 25% Q', 'AV Mean', 'AV Median', 'AV 75% Q', 'AV Max', 'AV Range', 'AV IQR']\n",
        "# derived_alti_accel_features =     ['AA Min', 'AA 25% Q', 'AA Mean', 'AA Median', 'AA 75% Q', 'AA Max', 'AA Range', 'AA IQR']\n",
        "# derived_bearing_rate_features =   ['BR Min', 'BR 25% Q', 'BR Mean', 'BR Median', 'BR 75% Q', 'BR Max', 'BR Range', 'BR IQR']\n",
        "\n",
        "# # another way of formatting names of derived motion features\n",
        "# min_features =     ['S Min',    'A Min',    'J Min',    'AV Min',    'AA Min',      'BR Min']\n",
        "# q25_features =     ['S 25% Q',  'A 25% Q',  'J 25% Q',  'AV 25% Q',  'AA 25% Q',    'BR 25% Q']\n",
        "# mean_features =    ['S Mean',   'A Mean',   'J Mean',   'AV Mean',   'AA Mean',     'BR Mean']\n",
        "# median_features =  ['S Median', 'A Median', 'J Median', 'AV Median', 'AA Median',   'BR Median']\n",
        "# q75_features =     ['S 75% Q',  'A 75% Q',  'J 75% Q',  'AV 75% Q',  'AA M 25% Q',  'BR 75% Q']\n",
        "# max_features =     ['S Max',    'A Max',    'J Max',    'AV Max',    'AA Max',      'BR Max']\n",
        "# range_features =   ['S Range',  'A Range',  'J Range',  'AV Range',  'AA Range',    'BR Range']\n",
        "# iqr_features =     ['S IQR',    'A IQR',    'J IQR',    'AV IQR',    'AA IQR',      'BR IQR']\n",
        "\n",
        "# derived_motion_features =   derived_speed_features + derived_acceleration_features + derived_jerk_features + \\\n",
        "#                             derived_alti_velocity_features + derived_bearing_rate_features"
      ],
      "metadata": {
        "id": "yJMxMVHsXN4l"
      },
      "execution_count": null,
      "outputs": []
    },
    {
      "cell_type": "code",
      "source": [
        "# # Names of range count features\n",
        "# speed_rc_features =         [f'S RC{i}' for i in range(7)]\n",
        "# acceleration_rc_features =  [f'A RC{i}' for i in range(7)]\n",
        "# jerk_rc_features =          [f'J RC{i}' for i in range(7)]\n",
        "# alti_velocity_rc_features = [f'AV RC{i}' for i in range(7)]\n",
        "# alti_accel_rc_features =    [f'AA RC{i}' for i in range(7)]\n",
        "# bearing_rate_rc_features =  [f'BR RC{i}' for i in range(7)]\n",
        "\n",
        "# # Concatenate all range count features\n",
        "# range_counts_features =  speed_rc_features + acceleration_rc_features + jerk_rc_features + \\\n",
        "#                         alti_velocity_rc_features + bearing_rate_rc_features"
      ],
      "metadata": {
        "id": "3GXD1jciZEqt"
      },
      "execution_count": null,
      "outputs": []
    },
    {
      "cell_type": "code",
      "source": [
        "# # Names of all useable features\n",
        "# all_features = raw_motion_features + derived_motion_features + range_counts_features\n",
        "# print(all_features)"
      ],
      "metadata": {
        "id": "PQKEaL0Wd-xQ"
      },
      "execution_count": null,
      "outputs": []
    },
    {
      "cell_type": "markdown",
      "source": [
        "### **format the data**"
      ],
      "metadata": {
        "id": "qqqETweUYhaq"
      }
    },
    {
      "cell_type": "code",
      "source": [
        "# Assuming df is your original DataFrame and raw_motion_features is defined\n",
        "features_df = df[['Mode'] + raw_motion_features]\n",
        "\n",
        "# Shuffle data\n",
        "features_df = features_df.sample(frac=1, random_state=15)\n",
        "\n",
        "# Map modes to integers\n",
        "mode_mapping = {'walk': 0, 'bike': 1, 'car': 2, 'bus': 3, 'train': 4}\n",
        "features_df['Mode'] = features_df['Mode'].map(mode_mapping)\n",
        "\n",
        "# Separate features and labels\n",
        "labels = features_df['Mode'].values\n",
        "features = features_df.drop('Mode', axis=1)\n",
        "\n",
        "# Split the data into training and test sets (75% training, 25% test)\n",
        "features_train, features_test, train_labels, test_labels = train_test_split(features, labels, test_size=0.25, random_state=57)\n",
        "\n",
        "# Assume each feature set has features named 'S0', 'S1', ..., 'BR60'\n",
        "num_features_per_group = 5  # S, A, J, AV, BR\n",
        "num_time_steps = 61  # S0 to S60, etc., implies 61 time steps\n",
        "\n",
        "# Function to reshape features into a 3D array\n",
        "def reshape_features(features_df):\n",
        "    num_samples = len(features_df)\n",
        "    train_data = np.zeros((num_samples, num_time_steps, num_features_per_group))\n",
        "    for i in range(num_time_steps):\n",
        "        train_data[:, i, 0] = features_df[f'AV{i}'].values  # Vertical velocity\n",
        "        train_data[:, i, 1] = features_df[f'BR{i}'].values  # Bearing rate\n",
        "        train_data[:, i, 2] = features_df[f'S{i}'].values  # Speed\n",
        "        train_data[:, i, 3] = features_df[f'A{i}'].values  # Acceleration\n",
        "        train_data[:, i, 4] = features_df[f'J{i}'].values  # Jerk\n",
        "    return train_data\n",
        "\n",
        "# Reshape the training and test feature sets\n",
        "train_data = reshape_features(features_train)\n",
        "test_data = reshape_features(features_test)\n",
        "\n",
        "# Now train_data and test_data are in the shape (num_samples, 61, 5)\n",
        "# labels_train and labels_test are simply (num_samples,)"
      ],
      "metadata": {
        "id": "-YTqR0gVYwxR"
      },
      "execution_count": null,
      "outputs": []
    },
    {
      "cell_type": "code",
      "source": [],
      "metadata": {
        "id": "Q8nsaN6SfhH_"
      },
      "execution_count": null,
      "outputs": []
    },
    {
      "cell_type": "code",
      "source": [
        "# df[['Mode']]"
      ],
      "metadata": {
        "id": "cLrnnAJlc4Tf"
      },
      "execution_count": null,
      "outputs": []
    },
    {
      "cell_type": "markdown",
      "source": [
        "### **CNN v1**"
      ],
      "metadata": {
        "id": "hixOq7h0XsDV"
      }
    },
    {
      "cell_type": "code",
      "source": [
        "model = models.Sequential([\n",
        "    # Input layer\n",
        "    layers.InputLayer(input_shape=(61, 5)),\n",
        "    # Convolutional layer that will process the entire set of 5 features across 3 time steps.\n",
        "    layers.Conv1D(filters=128, kernel_size=3, activation='relu', padding='same'),\n",
        "    # Another convolutional layer\n",
        "    layers.Conv1D(filters=128, kernel_size=3, activation='relu', padding='same'),\n",
        "    # Another convolutional layer\n",
        "    layers.Conv1D(filters=128, kernel_size=3, activation='relu', padding='same'),\n",
        "    # Reduce dimensionality and prepare for dense layer\n",
        "    layers.GlobalAveragePooling1D(),\n",
        "    # A dense layer for classification\n",
        "    layers.Dense(64, activation='relu'),\n",
        "    # Output layer with softmax for multi-class classification\n",
        "    layers.Dense(5, activation='softmax')\n",
        "])\n",
        "\n",
        "# Compile the model\n",
        "model.compile(\n",
        "    optimizer='adam',\n",
        "    loss='sparse_categorical_crossentropy',\n",
        "    metrics=['accuracy']\n",
        ")"
      ],
      "metadata": {
        "id": "lYl2czowZlaf"
      },
      "execution_count": null,
      "outputs": []
    },
    {
      "cell_type": "code",
      "source": [
        "# Model summary\n",
        "model.summary()"
      ],
      "metadata": {
        "colab": {
          "base_uri": "https://localhost:8080/"
        },
        "id": "anUiWE3XZlTI",
        "outputId": "205de5ba-cf1d-4e64-8a25-d3e7cc411de4"
      },
      "execution_count": null,
      "outputs": [
        {
          "output_type": "stream",
          "name": "stdout",
          "text": [
            "Model: \"sequential\"\n",
            "_________________________________________________________________\n",
            " Layer (type)                Output Shape              Param #   \n",
            "=================================================================\n",
            " conv1d (Conv1D)             (None, 61, 128)           2048      \n",
            "                                                                 \n",
            " conv1d_1 (Conv1D)           (None, 61, 128)           49280     \n",
            "                                                                 \n",
            " conv1d_2 (Conv1D)           (None, 61, 128)           49280     \n",
            "                                                                 \n",
            " global_average_pooling1d (  (None, 128)               0         \n",
            " GlobalAveragePooling1D)                                         \n",
            "                                                                 \n",
            " dense (Dense)               (None, 64)                8256      \n",
            "                                                                 \n",
            " dense_1 (Dense)             (None, 5)                 325       \n",
            "                                                                 \n",
            "=================================================================\n",
            "Total params: 109189 (426.52 KB)\n",
            "Trainable params: 109189 (426.52 KB)\n",
            "Non-trainable params: 0 (0.00 Byte)\n",
            "_________________________________________________________________\n"
          ]
        }
      ]
    },
    {
      "cell_type": "code",
      "source": [
        "# Example callback for training monitoring\n",
        "callbacks = [\n",
        "    tf.keras.callbacks.EarlyStopping(patience=3, monitor='val_loss')\n",
        "]"
      ],
      "metadata": {
        "id": "1ac-wzx4Zuff"
      },
      "execution_count": null,
      "outputs": []
    },
    {
      "cell_type": "code",
      "source": [
        "# Train the model\n",
        "history = model.fit(\n",
        "    train_data,\n",
        "    train_labels,\n",
        "    epochs=40,\n",
        "    batch_size=128,\n",
        "    validation_split=0.2,\n",
        "    # can turn callbacks off to stop early callbacks\n",
        "    # callbacks=callbacks\n",
        ")"
      ],
      "metadata": {
        "colab": {
          "base_uri": "https://localhost:8080/"
        },
        "id": "jkZJFv4tZuY2",
        "outputId": "55e7f9ef-dc70-42d3-f627-08558c024874"
      },
      "execution_count": null,
      "outputs": [
        {
          "output_type": "stream",
          "name": "stdout",
          "text": [
            "Epoch 1/40\n",
            "242/242 [==============================] - 6s 7ms/step - loss: 0.8964 - accuracy: 0.6718 - val_loss: 0.7870 - val_accuracy: 0.7292\n",
            "Epoch 2/40\n",
            "242/242 [==============================] - 1s 4ms/step - loss: 0.7512 - accuracy: 0.7448 - val_loss: 0.7460 - val_accuracy: 0.7497\n",
            "Epoch 3/40\n",
            "242/242 [==============================] - 1s 4ms/step - loss: 0.7059 - accuracy: 0.7603 - val_loss: 0.7266 - val_accuracy: 0.7575\n",
            "Epoch 4/40\n",
            "242/242 [==============================] - 1s 4ms/step - loss: 0.6795 - accuracy: 0.7692 - val_loss: 0.7218 - val_accuracy: 0.7535\n",
            "Epoch 5/40\n",
            "242/242 [==============================] - 1s 4ms/step - loss: 0.6555 - accuracy: 0.7763 - val_loss: 0.6699 - val_accuracy: 0.7770\n",
            "Epoch 6/40\n",
            "242/242 [==============================] - 1s 4ms/step - loss: 0.6359 - accuracy: 0.7841 - val_loss: 0.6630 - val_accuracy: 0.7758\n",
            "Epoch 7/40\n",
            "242/242 [==============================] - 1s 4ms/step - loss: 0.6161 - accuracy: 0.7909 - val_loss: 0.6521 - val_accuracy: 0.7857\n",
            "Epoch 8/40\n",
            "242/242 [==============================] - 1s 4ms/step - loss: 0.6056 - accuracy: 0.7955 - val_loss: 0.6413 - val_accuracy: 0.7899\n",
            "Epoch 9/40\n",
            "242/242 [==============================] - 1s 4ms/step - loss: 0.5909 - accuracy: 0.8014 - val_loss: 0.6464 - val_accuracy: 0.7881\n",
            "Epoch 10/40\n",
            "242/242 [==============================] - 1s 4ms/step - loss: 0.5897 - accuracy: 0.7992 - val_loss: 0.6386 - val_accuracy: 0.7867\n",
            "Epoch 11/40\n",
            "242/242 [==============================] - 1s 4ms/step - loss: 0.5712 - accuracy: 0.8082 - val_loss: 0.6280 - val_accuracy: 0.7938\n",
            "Epoch 12/40\n",
            "242/242 [==============================] - 1s 4ms/step - loss: 0.5686 - accuracy: 0.8096 - val_loss: 0.6329 - val_accuracy: 0.7906\n",
            "Epoch 13/40\n",
            "242/242 [==============================] - 1s 4ms/step - loss: 0.5589 - accuracy: 0.8132 - val_loss: 0.6095 - val_accuracy: 0.7974\n",
            "Epoch 14/40\n",
            "242/242 [==============================] - 1s 4ms/step - loss: 0.5520 - accuracy: 0.8139 - val_loss: 0.6020 - val_accuracy: 0.8018\n",
            "Epoch 15/40\n",
            "242/242 [==============================] - 1s 4ms/step - loss: 0.5435 - accuracy: 0.8208 - val_loss: 0.5892 - val_accuracy: 0.8039\n",
            "Epoch 16/40\n",
            "242/242 [==============================] - 1s 4ms/step - loss: 0.5402 - accuracy: 0.8197 - val_loss: 0.5893 - val_accuracy: 0.8076\n",
            "Epoch 17/40\n",
            "242/242 [==============================] - 1s 4ms/step - loss: 0.5330 - accuracy: 0.8219 - val_loss: 0.5940 - val_accuracy: 0.7995\n",
            "Epoch 18/40\n",
            "242/242 [==============================] - 1s 4ms/step - loss: 0.5292 - accuracy: 0.8230 - val_loss: 0.5958 - val_accuracy: 0.7969\n",
            "Epoch 19/40\n",
            "242/242 [==============================] - 1s 4ms/step - loss: 0.5208 - accuracy: 0.8270 - val_loss: 0.5710 - val_accuracy: 0.8114\n",
            "Epoch 20/40\n",
            "242/242 [==============================] - 1s 4ms/step - loss: 0.5174 - accuracy: 0.8275 - val_loss: 0.5922 - val_accuracy: 0.8027\n",
            "Epoch 21/40\n",
            "242/242 [==============================] - 1s 4ms/step - loss: 0.5163 - accuracy: 0.8286 - val_loss: 0.5746 - val_accuracy: 0.8112\n",
            "Epoch 22/40\n",
            "242/242 [==============================] - 1s 4ms/step - loss: 0.5061 - accuracy: 0.8307 - val_loss: 0.5784 - val_accuracy: 0.8049\n",
            "Epoch 23/40\n",
            "242/242 [==============================] - 1s 4ms/step - loss: 0.5022 - accuracy: 0.8323 - val_loss: 0.5654 - val_accuracy: 0.8090\n",
            "Epoch 24/40\n",
            "242/242 [==============================] - 1s 4ms/step - loss: 0.4944 - accuracy: 0.8346 - val_loss: 0.5677 - val_accuracy: 0.8111\n",
            "Epoch 25/40\n",
            "242/242 [==============================] - 1s 4ms/step - loss: 0.4921 - accuracy: 0.8360 - val_loss: 0.5755 - val_accuracy: 0.8080\n",
            "Epoch 26/40\n",
            "242/242 [==============================] - 1s 4ms/step - loss: 0.4890 - accuracy: 0.8362 - val_loss: 0.5674 - val_accuracy: 0.8105\n",
            "Epoch 27/40\n",
            "242/242 [==============================] - 1s 4ms/step - loss: 0.4841 - accuracy: 0.8373 - val_loss: 0.5679 - val_accuracy: 0.8089\n",
            "Epoch 28/40\n",
            "242/242 [==============================] - 1s 4ms/step - loss: 0.4801 - accuracy: 0.8395 - val_loss: 0.5609 - val_accuracy: 0.8105\n",
            "Epoch 29/40\n",
            "242/242 [==============================] - 1s 4ms/step - loss: 0.4731 - accuracy: 0.8409 - val_loss: 0.5648 - val_accuracy: 0.8155\n",
            "Epoch 30/40\n",
            "242/242 [==============================] - 1s 4ms/step - loss: 0.4697 - accuracy: 0.8435 - val_loss: 0.5573 - val_accuracy: 0.8155\n",
            "Epoch 31/40\n",
            "242/242 [==============================] - 1s 4ms/step - loss: 0.4681 - accuracy: 0.8428 - val_loss: 0.5697 - val_accuracy: 0.8128\n",
            "Epoch 32/40\n",
            "242/242 [==============================] - 1s 4ms/step - loss: 0.4657 - accuracy: 0.8435 - val_loss: 0.5716 - val_accuracy: 0.8119\n",
            "Epoch 33/40\n",
            "242/242 [==============================] - 1s 4ms/step - loss: 0.4565 - accuracy: 0.8450 - val_loss: 0.5619 - val_accuracy: 0.8147\n",
            "Epoch 34/40\n",
            "242/242 [==============================] - 1s 4ms/step - loss: 0.4540 - accuracy: 0.8493 - val_loss: 0.5707 - val_accuracy: 0.8171\n",
            "Epoch 35/40\n",
            "242/242 [==============================] - 1s 4ms/step - loss: 0.4490 - accuracy: 0.8482 - val_loss: 0.5715 - val_accuracy: 0.8164\n",
            "Epoch 36/40\n",
            "242/242 [==============================] - 1s 4ms/step - loss: 0.4413 - accuracy: 0.8521 - val_loss: 0.5639 - val_accuracy: 0.8156\n",
            "Epoch 37/40\n",
            "242/242 [==============================] - 1s 4ms/step - loss: 0.4349 - accuracy: 0.8513 - val_loss: 0.5589 - val_accuracy: 0.8125\n",
            "Epoch 38/40\n",
            "242/242 [==============================] - 1s 4ms/step - loss: 0.4295 - accuracy: 0.8549 - val_loss: 0.5850 - val_accuracy: 0.8088\n",
            "Epoch 39/40\n",
            "242/242 [==============================] - 1s 4ms/step - loss: 0.4291 - accuracy: 0.8544 - val_loss: 0.5928 - val_accuracy: 0.8155\n",
            "Epoch 40/40\n",
            "242/242 [==============================] - 1s 4ms/step - loss: 0.4269 - accuracy: 0.8543 - val_loss: 0.5683 - val_accuracy: 0.8133\n"
          ]
        }
      ]
    },
    {
      "cell_type": "markdown",
      "source": [
        "#### Analysis of the model"
      ],
      "metadata": {
        "id": "7vxcZjGDjwKh"
      }
    },
    {
      "cell_type": "code",
      "source": [
        "import matplotlib.pyplot as plt\n",
        "\n",
        "# Plot training and validation accuracy\n",
        "plt.plot(history.history['accuracy'], label='Training Accuracy')\n",
        "plt.plot(history.history['val_accuracy'], label='Validation Accuracy')\n",
        "plt.title('Model Accuracy')\n",
        "plt.ylabel('Accuracy')\n",
        "plt.xlabel('Epoch')\n",
        "plt.legend(loc='upper left')\n",
        "plt.show()"
      ],
      "metadata": {
        "colab": {
          "base_uri": "https://localhost:8080/",
          "height": 472
        },
        "id": "Qa7OEJYYjzxy",
        "outputId": "992a1179-b0de-4803-870d-f6ec5234682a"
      },
      "execution_count": null,
      "outputs": [
        {
          "output_type": "display_data",
          "data": {
            "text/plain": [
              "<Figure size 640x480 with 1 Axes>"
            ],
            "image/png": "[encoded data removed]"
          },
          "metadata": {}
        }
      ]
    },
    {
      "cell_type": "code",
      "source": [
        "test_loss, test_accuracy = model.evaluate(test_data, test_labels)\n",
        "print(f\"Test Accuracy: {test_accuracy * 100:.2f}%\")"
      ],
      "metadata": {
        "colab": {
          "base_uri": "https://localhost:8080/"
        },
        "id": "KkOdawseAcLP",
        "outputId": "c9e22b31-2d49-4f15-9e69-2dd4efcf36e7"
      },
      "execution_count": null,
      "outputs": [
        {
          "output_type": "stream",
          "name": "stdout",
          "text": [
            "404/404 [==============================] - 1s 2ms/step - loss: 0.5290 - accuracy: 0.8257\n",
            "Test Accuracy: 82.57%\n"
          ]
        }
      ]
    },
    {
      "cell_type": "code",
      "source": [
        "# Predict classes on the test set\n",
        "predictions = model.predict(test_data)\n",
        "predicted_classes = np.argmax(predictions, axis=1)\n",
        "\n",
        "# Generate confusion matrix\n",
        "cm = confusion_matrix(test_labels, predicted_classes)\n",
        "\n",
        "# Define the class labels\n",
        "class_labels = ['walk', 'bike', 'car', 'bus', 'train']  # Adjust this to your actual class labels\n",
        "\n",
        "# Create a heatmap for the confusion matrix\n",
        "sns.heatmap(cm, annot=True, cmap='summer', fmt='g', xticklabels=class_labels, yticklabels=class_labels)\n",
        "plt.title('Confusion Matrix')\n",
        "plt.xlabel('Predicted')\n",
        "plt.ylabel('Actual')\n",
        "plt.show()\n",
        "\n",
        "report = classification_report(test_labels, predicted_classes, target_names=['walk', 'bike', 'car', 'bus', 'train'])\n",
        "print(report)"
      ],
      "metadata": {
        "colab": {
          "base_uri": "https://localhost:8080/",
          "height": 698
        },
        "id": "R5nxJYFXAcIH",
        "outputId": "bbb6fb9a-5a05-433d-bf36-1ab1ec941e1d"
      },
      "execution_count": null,
      "outputs": [
        {
          "output_type": "stream",
          "name": "stdout",
          "text": [
            "404/404 [==============================] - 1s 1ms/step\n"
          ]
        },
        {
          "output_type": "display_data",
          "data": {
            "text/plain": [
              "<Figure size 640x480 with 2 Axes>"
            ],
            "image/png": "[encoded data removed]"
          },
          "metadata": {}
        },
        {
          "output_type": "stream",
          "name": "stdout",
          "text": [
            "              precision    recall  f1-score   support\n",
            "\n",
            "        walk       0.78      0.93      0.85      3158\n",
            "        bike       0.90      0.83      0.87      2317\n",
            "         car       0.72      0.75      0.73      1771\n",
            "         bus       0.84      0.71      0.77      3376\n",
            "       train       0.89      0.90      0.90      2279\n",
            "\n",
            "    accuracy                           0.83     12901\n",
            "   macro avg       0.83      0.82      0.82     12901\n",
            "weighted avg       0.83      0.83      0.82     12901\n",
            "\n"
          ]
        }
      ]
    },
    {
      "cell_type": "code",
      "source": [],
      "metadata": {
        "id": "ZONwWWrBAcAn"
      },
      "execution_count": null,
      "outputs": []
    }
  ]
}