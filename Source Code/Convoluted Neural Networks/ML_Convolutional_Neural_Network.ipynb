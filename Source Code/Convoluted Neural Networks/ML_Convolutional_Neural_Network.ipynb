{
  "nbformat": 4,
  "nbformat_minor": 0,
  "metadata": {
    "colab": {
      "provenance": [],
      "collapsed_sections": [
        "K4oaIySoMn6B",
        "xZaoeiTQ8rFC"
      ],
      "include_colab_link": true
    },
    "kernelspec": {
      "name": "python3",
      "display_name": "Python 3"
    },
    "language_info": {
      "name": "python"
    }
  },
  "cells": [
    {
      "cell_type": "markdown",
      "metadata": {
        "id": "view-in-github",
        "colab_type": "text"
      },
      "source": [
        "<a href=\"https://colab.research.google.com/github/harry-erskine/PRBX-Travel-Mode-Identification/blob/main/Source%20Code/Convoluted%20Neural%20Networks/ML_Convolutional_Neural_Network.ipynb\" target=\"_parent\"><img src=\"https://colab.research.google.com/assets/colab-badge.svg\" alt=\"Open In Colab\"/></a>"
      ]
    },
    {
      "cell_type": "markdown",
      "source": [
        "## **ML - Convolutional Neural Network**"
      ],
      "metadata": {
        "id": "NyBrjfOS5Jis"
      }
    },
    {
      "cell_type": "markdown",
      "source": [
        "### **Data Preferences**"
      ],
      "metadata": {
        "id": "9-soFKGvM09J"
      }
    },
    {
      "cell_type": "code",
      "execution_count": null,
      "metadata": {
        "id": "XxbFTVLI5IhX"
      },
      "outputs": [],
      "source": [
        "### VARIABLES ###\n",
        "\n",
        "groupSize = 16                  # How many trajectories are represented in each group\n",
        "motion_points = groupSize - 3    # Do not change this variable\n",
        "\n",
        "# variables below all 'True' or 'False' (where all 'False' represents the most filtered version of the data)\n",
        "\n",
        "include_impossible_groups = False      # include groups with trajectories that I have deemed to be invalid\n",
        "include_stationary_groups = False      # include groups where there is less than 3 meters of total movement\n",
        "include_airplane_and_boat = False      # include groups where the mode of transportation was 'airplane' or 'boat'\n",
        "include_all_time_ranges = False        # include groups where the time between each trajectory is more than 1 second"
      ]
    },
    {
      "cell_type": "markdown",
      "source": [
        "### **Notebook Setup**"
      ],
      "metadata": {
        "id": "K4oaIySoMn6B"
      }
    },
    {
      "cell_type": "code",
      "source": [
        "### INSTALLS ###\n",
        "\n",
        "# !pip install --upgrade gspread\n",
        "# !pip install pandas\n",
        "# !pip install scikit-learn\n",
        "# !pip install tensorflow"
      ],
      "metadata": {
        "id": "Nv-xlIhf5k_A"
      },
      "execution_count": null,
      "outputs": []
    },
    {
      "cell_type": "code",
      "source": [
        "### IMPORTS ###\n",
        "\n",
        "import os\n",
        "from google.colab import drive\n",
        "import pandas as pd\n",
        "import numpy as np\n",
        "import time\n",
        "#\n",
        "import seaborn as sns\n",
        "import matplotlib.pyplot as plt\n",
        "#from sklearn.preprocessing import LabelEncoder\n",
        "from sklearn.model_selection import train_test_split\n",
        "# import graphviz\n",
        "# from sklearn import metrics, tree\n",
        "from sklearn.metrics import confusion_matrix, classification_report\n",
        "# from sklearn.svm import SVC\n",
        "import tensorflow as tf\n",
        "from tensorflow.keras import layers, models\n",
        "#\n",
        "# import torch\n",
        "# from torch import nn\n",
        "# from torch.utils.data import DataLoader\n",
        "# from torchvision import datasets\n",
        "# import torchvision.transforms as transforms\n",
        "# import torch.nn.functional as F"
      ],
      "metadata": {
        "id": "XnI98A1s5lfa"
      },
      "execution_count": null,
      "outputs": []
    },
    {
      "cell_type": "code",
      "source": [
        "### MOUNT GOOGLE DRIVE ###\n",
        "\n",
        "mainMountPath = '/content/gdrive'\n",
        "mainDrivePath = '/content/gdrive/MyDrive/Colab Notebooks/PRBX'\n",
        "\n",
        "drive.mount(mainMountPath, force_remount=True)"
      ],
      "metadata": {
        "colab": {
          "base_uri": "https://localhost:8080/"
        },
        "id": "TLHjfMJK5t-P",
        "outputId": "c2c6b80c-fb2c-4015-db22-c5d2b2291234"
      },
      "execution_count": null,
      "outputs": [
        {
          "output_type": "stream",
          "name": "stdout",
          "text": [
            "Mounted at /content/gdrive\n"
          ]
        }
      ]
    },
    {
      "cell_type": "code",
      "source": [
        "### FILE PATHS ###\n",
        "\n",
        "generatedFilesPath = mainDrivePath + '/Data Files/Generated Files'\n",
        "cleanedMotionDataPath = generatedFilesPath + '/cleanedMotionDataX' + str(groupSize) + '.csv'"
      ],
      "metadata": {
        "id": "afNnC4mU5vhn"
      },
      "execution_count": null,
      "outputs": []
    },
    {
      "cell_type": "code",
      "source": [
        "cmdf = pd.read_csv(cleanedMotionDataPath)\n",
        "cmdf = cmdf.drop('Unnamed: 0', axis=1)"
      ],
      "metadata": {
        "id": "cjTdcMAgSse9"
      },
      "execution_count": null,
      "outputs": []
    },
    {
      "cell_type": "code",
      "source": [
        "df = cmdf\n",
        "\n",
        "if include_impossible_groups == False:\n",
        "  df = df[df['Impossible'] == False]\n",
        "\n",
        "if include_stationary_groups == False:\n",
        "  df = df[df['Stationary'] == False]\n",
        "\n",
        "if include_airplane_and_boat == False:\n",
        "  df.drop(df[df['Mode'] == 'airplane'].index, inplace=True)\n",
        "  df.drop(df[df['Mode'] == 'boat'].index, inplace=True)\n",
        "\n",
        "if include_all_time_ranges == False:\n",
        "  df = df[df['DT Max'] == 1]\n",
        "\n",
        "df"
      ],
      "metadata": {
        "colab": {
          "base_uri": "https://localhost:8080/",
          "height": 461
        },
        "id": "NIalbUj26_0q",
        "outputId": "fb625e8e-7f20-449d-e306-766621109087"
      },
      "execution_count": null,
      "outputs": [
        {
          "output_type": "execute_result",
          "data": {
            "text/plain": [
              "        GroupId  UserId   Mode Old Mode         S0         S1         S2  \\\n",
              "1             2      10   walk     walk   0.924945   0.612202   0.653157   \n",
              "2             3      10   walk     walk   1.023958   1.404956   1.236617   \n",
              "3             4      10   walk     walk   0.849970   0.892355   0.374902   \n",
              "4             5      10   walk     walk   1.400033   1.123503   0.924945   \n",
              "9            10      10   walk     walk   1.290664   1.224914   1.376708   \n",
              "...         ...     ...    ...      ...        ...        ...        ...   \n",
              "255991   255992     170  train   subway  16.766430  16.435106  16.441095   \n",
              "255996   255997     170  train   subway  19.446215  18.808494  18.960869   \n",
              "255997   255998     170  train   subway  17.509862  17.397213  17.121927   \n",
              "255998   255999     170  train   subway  19.147764  19.269044  18.927584   \n",
              "255999   256000     170  train   subway  18.267321  18.355088  18.465247   \n",
              "\n",
              "               S3         S4         S5  ...  AA RC6  BR RC0  BR RC1  BR RC2  \\\n",
              "1        0.452357   0.561752   0.333074  ...       0       7       2       3   \n",
              "2        1.306314   1.680328   2.800066  ...       1       6       4       1   \n",
              "3        0.280925   0.484137   0.561983  ...       0       2       6       3   \n",
              "4        1.162368   1.123503   2.261784  ...       0       3       5       3   \n",
              "9        1.204619   1.224677   0.819108  ...       0       7       2       2   \n",
              "...           ...        ...        ...  ...     ...     ...     ...     ...   \n",
              "255991  15.988970  15.434033  15.109384  ...       0      13       0       0   \n",
              "255996  19.048962  18.238457  17.001455  ...       0      13       0       0   \n",
              "255997  17.001256  17.058019  17.375697  ...       0      13       0       0   \n",
              "255998  19.016195  18.334404  18.775589  ...       0      13       0       0   \n",
              "255999  18.324652  18.536094  17.793590  ...       0      13       0       0   \n",
              "\n",
              "        BR RC3  BR RC4  BR RC5  BR RC6  Impossible  Stationary  \n",
              "1            1       0       0       0       False       False  \n",
              "2            2       0       0       0       False       False  \n",
              "3            2       0       0       0       False       False  \n",
              "4            2       0       0       0       False       False  \n",
              "9            2       0       0       0       False       False  \n",
              "...        ...     ...     ...     ...         ...         ...  \n",
              "255991       0       0       0       0       False       False  \n",
              "255996       0       0       0       0       False       False  \n",
              "255997       0       0       0       0       False       False  \n",
              "255998       0       0       0       0       False       False  \n",
              "255999       0       0       0       0       False       False  \n",
              "\n",
              "[34043 rows x 178 columns]"
            ],
            "text/html": [
              "\n",
              "  <div id=\"df-f781124f-606b-49a9-b028-05d8d35f7177\" class=\"colab-df-container\">\n",
              "    <div>\n",
              "<style scoped>\n",
              "    .dataframe tbody tr th:only-of-type {\n",
              "        vertical-align: middle;\n",
              "    }\n",
              "\n",
              "    .dataframe tbody tr th {\n",
              "        vertical-align: top;\n",
              "    }\n",
              "\n",
              "    .dataframe thead th {\n",
              "        text-align: right;\n",
              "    }\n",
              "</style>\n",
              "<table border=\"1\" class=\"dataframe\">\n",
              "  <thead>\n",
              "    <tr style=\"text-align: right;\">\n",
              "      <th></th>\n",
              "      <th>GroupId</th>\n",
              "      <th>UserId</th>\n",
              "      <th>Mode</th>\n",
              "      <th>Old Mode</th>\n",
              "      <th>S0</th>\n",
              "      <th>S1</th>\n",
              "      <th>S2</th>\n",
              "      <th>S3</th>\n",
              "      <th>S4</th>\n",
              "      <th>S5</th>\n",
              "      <th>...</th>\n",
              "      <th>AA RC6</th>\n",
              "      <th>BR RC0</th>\n",
              "      <th>BR RC1</th>\n",
              "      <th>BR RC2</th>\n",
              "      <th>BR RC3</th>\n",
              "      <th>BR RC4</th>\n",
              "      <th>BR RC5</th>\n",
              "      <th>BR RC6</th>\n",
              "      <th>Impossible</th>\n",
              "      <th>Stationary</th>\n",
              "    </tr>\n",
              "  </thead>\n",
              "  <tbody>\n",
              "    <tr>\n",
              "      <th>1</th>\n",
              "      <td>2</td>\n",
              "      <td>10</td>\n",
              "      <td>walk</td>\n",
              "      <td>walk</td>\n",
              "      <td>0.924945</td>\n",
              "      <td>0.612202</td>\n",
              "      <td>0.653157</td>\n",
              "      <td>0.452357</td>\n",
              "      <td>0.561752</td>\n",
              "      <td>0.333074</td>\n",
              "      <td>...</td>\n",
              "      <td>0</td>\n",
              "      <td>7</td>\n",
              "      <td>2</td>\n",
              "      <td>3</td>\n",
              "      <td>1</td>\n",
              "      <td>0</td>\n",
              "      <td>0</td>\n",
              "      <td>0</td>\n",
              "      <td>False</td>\n",
              "      <td>False</td>\n",
              "    </tr>\n",
              "    <tr>\n",
              "      <th>2</th>\n",
              "      <td>3</td>\n",
              "      <td>10</td>\n",
              "      <td>walk</td>\n",
              "      <td>walk</td>\n",
              "      <td>1.023958</td>\n",
              "      <td>1.404956</td>\n",
              "      <td>1.236617</td>\n",
              "      <td>1.306314</td>\n",
              "      <td>1.680328</td>\n",
              "      <td>2.800066</td>\n",
              "      <td>...</td>\n",
              "      <td>1</td>\n",
              "      <td>6</td>\n",
              "      <td>4</td>\n",
              "      <td>1</td>\n",
              "      <td>2</td>\n",
              "      <td>0</td>\n",
              "      <td>0</td>\n",
              "      <td>0</td>\n",
              "      <td>False</td>\n",
              "      <td>False</td>\n",
              "    </tr>\n",
              "    <tr>\n",
              "      <th>3</th>\n",
              "      <td>4</td>\n",
              "      <td>10</td>\n",
              "      <td>walk</td>\n",
              "      <td>walk</td>\n",
              "      <td>0.849970</td>\n",
              "      <td>0.892355</td>\n",
              "      <td>0.374902</td>\n",
              "      <td>0.280925</td>\n",
              "      <td>0.484137</td>\n",
              "      <td>0.561983</td>\n",
              "      <td>...</td>\n",
              "      <td>0</td>\n",
              "      <td>2</td>\n",
              "      <td>6</td>\n",
              "      <td>3</td>\n",
              "      <td>2</td>\n",
              "      <td>0</td>\n",
              "      <td>0</td>\n",
              "      <td>0</td>\n",
              "      <td>False</td>\n",
              "      <td>False</td>\n",
              "    </tr>\n",
              "    <tr>\n",
              "      <th>4</th>\n",
              "      <td>5</td>\n",
              "      <td>10</td>\n",
              "      <td>walk</td>\n",
              "      <td>walk</td>\n",
              "      <td>1.400033</td>\n",
              "      <td>1.123503</td>\n",
              "      <td>0.924945</td>\n",
              "      <td>1.162368</td>\n",
              "      <td>1.123503</td>\n",
              "      <td>2.261784</td>\n",
              "      <td>...</td>\n",
              "      <td>0</td>\n",
              "      <td>3</td>\n",
              "      <td>5</td>\n",
              "      <td>3</td>\n",
              "      <td>2</td>\n",
              "      <td>0</td>\n",
              "      <td>0</td>\n",
              "      <td>0</td>\n",
              "      <td>False</td>\n",
              "      <td>False</td>\n",
              "    </tr>\n",
              "    <tr>\n",
              "      <th>9</th>\n",
              "      <td>10</td>\n",
              "      <td>10</td>\n",
              "      <td>walk</td>\n",
              "      <td>walk</td>\n",
              "      <td>1.290664</td>\n",
              "      <td>1.224914</td>\n",
              "      <td>1.376708</td>\n",
              "      <td>1.204619</td>\n",
              "      <td>1.224677</td>\n",
              "      <td>0.819108</td>\n",
              "      <td>...</td>\n",
              "      <td>0</td>\n",
              "      <td>7</td>\n",
              "      <td>2</td>\n",
              "      <td>2</td>\n",
              "      <td>2</td>\n",
              "      <td>0</td>\n",
              "      <td>0</td>\n",
              "      <td>0</td>\n",
              "      <td>False</td>\n",
              "      <td>False</td>\n",
              "    </tr>\n",
              "    <tr>\n",
              "      <th>...</th>\n",
              "      <td>...</td>\n",
              "      <td>...</td>\n",
              "      <td>...</td>\n",
              "      <td>...</td>\n",
              "      <td>...</td>\n",
              "      <td>...</td>\n",
              "      <td>...</td>\n",
              "      <td>...</td>\n",
              "      <td>...</td>\n",
              "      <td>...</td>\n",
              "      <td>...</td>\n",
              "      <td>...</td>\n",
              "      <td>...</td>\n",
              "      <td>...</td>\n",
              "      <td>...</td>\n",
              "      <td>...</td>\n",
              "      <td>...</td>\n",
              "      <td>...</td>\n",
              "      <td>...</td>\n",
              "      <td>...</td>\n",
              "      <td>...</td>\n",
              "    </tr>\n",
              "    <tr>\n",
              "      <th>255991</th>\n",
              "      <td>255992</td>\n",
              "      <td>170</td>\n",
              "      <td>train</td>\n",
              "      <td>subway</td>\n",
              "      <td>16.766430</td>\n",
              "      <td>16.435106</td>\n",
              "      <td>16.441095</td>\n",
              "      <td>15.988970</td>\n",
              "      <td>15.434033</td>\n",
              "      <td>15.109384</td>\n",
              "      <td>...</td>\n",
              "      <td>0</td>\n",
              "      <td>13</td>\n",
              "      <td>0</td>\n",
              "      <td>0</td>\n",
              "      <td>0</td>\n",
              "      <td>0</td>\n",
              "      <td>0</td>\n",
              "      <td>0</td>\n",
              "      <td>False</td>\n",
              "      <td>False</td>\n",
              "    </tr>\n",
              "    <tr>\n",
              "      <th>255996</th>\n",
              "      <td>255997</td>\n",
              "      <td>170</td>\n",
              "      <td>train</td>\n",
              "      <td>subway</td>\n",
              "      <td>19.446215</td>\n",
              "      <td>18.808494</td>\n",
              "      <td>18.960869</td>\n",
              "      <td>19.048962</td>\n",
              "      <td>18.238457</td>\n",
              "      <td>17.001455</td>\n",
              "      <td>...</td>\n",
              "      <td>0</td>\n",
              "      <td>13</td>\n",
              "      <td>0</td>\n",
              "      <td>0</td>\n",
              "      <td>0</td>\n",
              "      <td>0</td>\n",
              "      <td>0</td>\n",
              "      <td>0</td>\n",
              "      <td>False</td>\n",
              "      <td>False</td>\n",
              "    </tr>\n",
              "    <tr>\n",
              "      <th>255997</th>\n",
              "      <td>255998</td>\n",
              "      <td>170</td>\n",
              "      <td>train</td>\n",
              "      <td>subway</td>\n",
              "      <td>17.509862</td>\n",
              "      <td>17.397213</td>\n",
              "      <td>17.121927</td>\n",
              "      <td>17.001256</td>\n",
              "      <td>17.058019</td>\n",
              "      <td>17.375697</td>\n",
              "      <td>...</td>\n",
              "      <td>0</td>\n",
              "      <td>13</td>\n",
              "      <td>0</td>\n",
              "      <td>0</td>\n",
              "      <td>0</td>\n",
              "      <td>0</td>\n",
              "      <td>0</td>\n",
              "      <td>0</td>\n",
              "      <td>False</td>\n",
              "      <td>False</td>\n",
              "    </tr>\n",
              "    <tr>\n",
              "      <th>255998</th>\n",
              "      <td>255999</td>\n",
              "      <td>170</td>\n",
              "      <td>train</td>\n",
              "      <td>subway</td>\n",
              "      <td>19.147764</td>\n",
              "      <td>19.269044</td>\n",
              "      <td>18.927584</td>\n",
              "      <td>19.016195</td>\n",
              "      <td>18.334404</td>\n",
              "      <td>18.775589</td>\n",
              "      <td>...</td>\n",
              "      <td>0</td>\n",
              "      <td>13</td>\n",
              "      <td>0</td>\n",
              "      <td>0</td>\n",
              "      <td>0</td>\n",
              "      <td>0</td>\n",
              "      <td>0</td>\n",
              "      <td>0</td>\n",
              "      <td>False</td>\n",
              "      <td>False</td>\n",
              "    </tr>\n",
              "    <tr>\n",
              "      <th>255999</th>\n",
              "      <td>256000</td>\n",
              "      <td>170</td>\n",
              "      <td>train</td>\n",
              "      <td>subway</td>\n",
              "      <td>18.267321</td>\n",
              "      <td>18.355088</td>\n",
              "      <td>18.465247</td>\n",
              "      <td>18.324652</td>\n",
              "      <td>18.536094</td>\n",
              "      <td>17.793590</td>\n",
              "      <td>...</td>\n",
              "      <td>0</td>\n",
              "      <td>13</td>\n",
              "      <td>0</td>\n",
              "      <td>0</td>\n",
              "      <td>0</td>\n",
              "      <td>0</td>\n",
              "      <td>0</td>\n",
              "      <td>0</td>\n",
              "      <td>False</td>\n",
              "      <td>False</td>\n",
              "    </tr>\n",
              "  </tbody>\n",
              "</table>\n",
              "<p>34043 rows × 178 columns</p>\n",
              "</div>\n",
              "    <div class=\"colab-df-buttons\">\n",
              "\n",
              "  <div class=\"colab-df-container\">\n",
              "    <button class=\"colab-df-convert\" onclick=\"convertToInteractive('df-f781124f-606b-49a9-b028-05d8d35f7177')\"\n",
              "            title=\"Convert this dataframe to an interactive table.\"\n",
              "            style=\"display:none;\">\n",
              "\n",
              "  <svg xmlns=\"http://www.w3.org/2000/svg\" height=\"24px\" viewBox=\"0 -960 960 960\">\n",
              "    <path d=\"M120-120v-720h720v720H120Zm60-500h600v-160H180v160Zm220 220h160v-160H400v160Zm0 220h160v-160H400v160ZM180-400h160v-160H180v160Zm440 0h160v-160H620v160ZM180-180h160v-160H180v160Zm440 0h160v-160H620v160Z\"/>\n",
              "  </svg>\n",
              "    </button>\n",
              "\n",
              "  <style>\n",
              "    .colab-df-container {\n",
              "      display:flex;\n",
              "      gap: 12px;\n",
              "    }\n",
              "\n",
              "    .colab-df-convert {\n",
              "      background-color: #E8F0FE;\n",
              "      border: none;\n",
              "      border-radius: 50%;\n",
              "      cursor: pointer;\n",
              "      display: none;\n",
              "      fill: #1967D2;\n",
              "      height: 32px;\n",
              "      padding: 0 0 0 0;\n",
              "      width: 32px;\n",
              "    }\n",
              "\n",
              "    .colab-df-convert:hover {\n",
              "      background-color: #E2EBFA;\n",
              "      box-shadow: 0px 1px 2px rgba(60, 64, 67, 0.3), 0px 1px 3px 1px rgba(60, 64, 67, 0.15);\n",
              "      fill: #174EA6;\n",
              "    }\n",
              "\n",
              "    .colab-df-buttons div {\n",
              "      margin-bottom: 4px;\n",
              "    }\n",
              "\n",
              "    [theme=dark] .colab-df-convert {\n",
              "      background-color: #3B4455;\n",
              "      fill: #D2E3FC;\n",
              "    }\n",
              "\n",
              "    [theme=dark] .colab-df-convert:hover {\n",
              "      background-color: #434B5C;\n",
              "      box-shadow: 0px 1px 3px 1px rgba(0, 0, 0, 0.15);\n",
              "      filter: drop-shadow(0px 1px 2px rgba(0, 0, 0, 0.3));\n",
              "      fill: #FFFFFF;\n",
              "    }\n",
              "  </style>\n",
              "\n",
              "    <script>\n",
              "      const buttonEl =\n",
              "        document.querySelector('#df-f781124f-606b-49a9-b028-05d8d35f7177 button.colab-df-convert');\n",
              "      buttonEl.style.display =\n",
              "        google.colab.kernel.accessAllowed ? 'block' : 'none';\n",
              "\n",
              "      async function convertToInteractive(key) {\n",
              "        const element = document.querySelector('#df-f781124f-606b-49a9-b028-05d8d35f7177');\n",
              "        const dataTable =\n",
              "          await google.colab.kernel.invokeFunction('convertToInteractive',\n",
              "                                                    [key], {});\n",
              "        if (!dataTable) return;\n",
              "\n",
              "        const docLinkHtml = 'Like what you see? Visit the ' +\n",
              "          '<a target=\"_blank\" href=https://colab.research.google.com/notebooks/data_table.ipynb>data table notebook</a>'\n",
              "          + ' to learn more about interactive tables.';\n",
              "        element.innerHTML = '';\n",
              "        dataTable['output_type'] = 'display_data';\n",
              "        await google.colab.output.renderOutput(dataTable, element);\n",
              "        const docLink = document.createElement('div');\n",
              "        docLink.innerHTML = docLinkHtml;\n",
              "        element.appendChild(docLink);\n",
              "      }\n",
              "    </script>\n",
              "  </div>\n",
              "\n",
              "\n",
              "<div id=\"df-092f2d9e-3d69-4884-9a81-3f2a0492e4c1\">\n",
              "  <button class=\"colab-df-quickchart\" onclick=\"quickchart('df-092f2d9e-3d69-4884-9a81-3f2a0492e4c1')\"\n",
              "            title=\"Suggest charts\"\n",
              "            style=\"display:none;\">\n",
              "\n",
              "<svg xmlns=\"http://www.w3.org/2000/svg\" height=\"24px\"viewBox=\"0 0 24 24\"\n",
              "     width=\"24px\">\n",
              "    <g>\n",
              "        <path d=\"M19 3H5c-1.1 0-2 .9-2 2v14c0 1.1.9 2 2 2h14c1.1 0 2-.9 2-2V5c0-1.1-.9-2-2-2zM9 17H7v-7h2v7zm4 0h-2V7h2v10zm4 0h-2v-4h2v4z\"/>\n",
              "    </g>\n",
              "</svg>\n",
              "  </button>\n",
              "\n",
              "<style>\n",
              "  .colab-df-quickchart {\n",
              "      --bg-color: #E8F0FE;\n",
              "      --fill-color: #1967D2;\n",
              "      --hover-bg-color: #E2EBFA;\n",
              "      --hover-fill-color: #174EA6;\n",
              "      --disabled-fill-color: #AAA;\n",
              "      --disabled-bg-color: #DDD;\n",
              "  }\n",
              "\n",
              "  [theme=dark] .colab-df-quickchart {\n",
              "      --bg-color: #3B4455;\n",
              "      --fill-color: #D2E3FC;\n",
              "      --hover-bg-color: #434B5C;\n",
              "      --hover-fill-color: #FFFFFF;\n",
              "      --disabled-bg-color: #3B4455;\n",
              "      --disabled-fill-color: #666;\n",
              "  }\n",
              "\n",
              "  .colab-df-quickchart {\n",
              "    background-color: var(--bg-color);\n",
              "    border: none;\n",
              "    border-radius: 50%;\n",
              "    cursor: pointer;\n",
              "    display: none;\n",
              "    fill: var(--fill-color);\n",
              "    height: 32px;\n",
              "    padding: 0;\n",
              "    width: 32px;\n",
              "  }\n",
              "\n",
              "  .colab-df-quickchart:hover {\n",
              "    background-color: var(--hover-bg-color);\n",
              "    box-shadow: 0 1px 2px rgba(60, 64, 67, 0.3), 0 1px 3px 1px rgba(60, 64, 67, 0.15);\n",
              "    fill: var(--button-hover-fill-color);\n",
              "  }\n",
              "\n",
              "  .colab-df-quickchart-complete:disabled,\n",
              "  .colab-df-quickchart-complete:disabled:hover {\n",
              "    background-color: var(--disabled-bg-color);\n",
              "    fill: var(--disabled-fill-color);\n",
              "    box-shadow: none;\n",
              "  }\n",
              "\n",
              "  .colab-df-spinner {\n",
              "    border: 2px solid var(--fill-color);\n",
              "    border-color: transparent;\n",
              "    border-bottom-color: var(--fill-color);\n",
              "    animation:\n",
              "      spin 1s steps(1) infinite;\n",
              "  }\n",
              "\n",
              "  @keyframes spin {\n",
              "    0% {\n",
              "      border-color: transparent;\n",
              "      border-bottom-color: var(--fill-color);\n",
              "      border-left-color: var(--fill-color);\n",
              "    }\n",
              "    20% {\n",
              "      border-color: transparent;\n",
              "      border-left-color: var(--fill-color);\n",
              "      border-top-color: var(--fill-color);\n",
              "    }\n",
              "    30% {\n",
              "      border-color: transparent;\n",
              "      border-left-color: var(--fill-color);\n",
              "      border-top-color: var(--fill-color);\n",
              "      border-right-color: var(--fill-color);\n",
              "    }\n",
              "    40% {\n",
              "      border-color: transparent;\n",
              "      border-right-color: var(--fill-color);\n",
              "      border-top-color: var(--fill-color);\n",
              "    }\n",
              "    60% {\n",
              "      border-color: transparent;\n",
              "      border-right-color: var(--fill-color);\n",
              "    }\n",
              "    80% {\n",
              "      border-color: transparent;\n",
              "      border-right-color: var(--fill-color);\n",
              "      border-bottom-color: var(--fill-color);\n",
              "    }\n",
              "    90% {\n",
              "      border-color: transparent;\n",
              "      border-bottom-color: var(--fill-color);\n",
              "    }\n",
              "  }\n",
              "</style>\n",
              "\n",
              "  <script>\n",
              "    async function quickchart(key) {\n",
              "      const quickchartButtonEl =\n",
              "        document.querySelector('#' + key + ' button');\n",
              "      quickchartButtonEl.disabled = true;  // To prevent multiple clicks.\n",
              "      quickchartButtonEl.classList.add('colab-df-spinner');\n",
              "      try {\n",
              "        const charts = await google.colab.kernel.invokeFunction(\n",
              "            'suggestCharts', [key], {});\n",
              "      } catch (error) {\n",
              "        console.error('Error during call to suggestCharts:', error);\n",
              "      }\n",
              "      quickchartButtonEl.classList.remove('colab-df-spinner');\n",
              "      quickchartButtonEl.classList.add('colab-df-quickchart-complete');\n",
              "    }\n",
              "    (() => {\n",
              "      let quickchartButtonEl =\n",
              "        document.querySelector('#df-092f2d9e-3d69-4884-9a81-3f2a0492e4c1 button');\n",
              "      quickchartButtonEl.style.display =\n",
              "        google.colab.kernel.accessAllowed ? 'block' : 'none';\n",
              "    })();\n",
              "  </script>\n",
              "</div>\n",
              "    </div>\n",
              "  </div>\n"
            ],
            "application/vnd.google.colaboratory.intrinsic+json": {
              "type": "dataframe",
              "variable_name": "df"
            }
          },
          "metadata": {},
          "execution_count": 7
        }
      ]
    },
    {
      "cell_type": "code",
      "source": [
        "print(df['Mode'].unique())"
      ],
      "metadata": {
        "colab": {
          "base_uri": "https://localhost:8080/"
        },
        "id": "Di_y_D6ACpq8",
        "outputId": "d5d417b1-5349-4fb2-b726-bbbf793d4356"
      },
      "execution_count": null,
      "outputs": [
        {
          "output_type": "stream",
          "name": "stdout",
          "text": [
            "['walk' 'car' 'bus' 'train' 'bike']\n"
          ]
        }
      ]
    },
    {
      "cell_type": "code",
      "source": [
        "# Names of raw motion features\n",
        "raw_speed_features =          [f'S{i}' for i in range(motion_points)]\n",
        "raw_acceleration_features =   [f'A{i}' for i in range(motion_points)]\n",
        "raw_jerk_features =           [f'J{i}' for i in range(motion_points)]\n",
        "raw_alti_velocity_features =  [f'AV{i}' for i in range(motion_points)]\n",
        "raw_alti_accel_features =     [f'AA{i}' for i in range(motion_points)]\n",
        "raw_bearing_rate_features =   [f'BR{i}' for i in range(motion_points)]\n",
        "\n",
        "raw_motion_features = raw_speed_features + raw_acceleration_features + raw_jerk_features + \\\n",
        "                      raw_alti_velocity_features + raw_bearing_rate_features"
      ],
      "metadata": {
        "id": "dNREBbJYXBQ-"
      },
      "execution_count": null,
      "outputs": []
    },
    {
      "cell_type": "markdown",
      "source": [
        "#### features that aren't used by the CNN"
      ],
      "metadata": {
        "id": "xZaoeiTQ8rFC"
      }
    },
    {
      "cell_type": "code",
      "source": [
        "# # Names of derived motion features\n",
        "# derived_speed_features =          ['S Min', 'S 25% Q', 'S Mean', 'S Median', 'S 75% Q', 'S Max', 'S Range', 'S IQR']\n",
        "# derived_acceleration_features =   ['A Min', 'A 25% Q', 'A Mean', 'A Median', 'A 75% Q', 'A Max', 'A Range', 'A IQR']\n",
        "# derived_jerk_features =           ['J Min', 'J 25% Q', 'J Mean', 'J Median', 'J 75% Q', 'J Max', 'J Range', 'J IQR']\n",
        "# derived_alti_velocity_features =  ['AV Min', 'AV 25% Q', 'AV Mean', 'AV Median', 'AV 75% Q', 'AV Max', 'AV Range', 'AV IQR']\n",
        "# derived_alti_accel_features =     ['AA Min', 'AA 25% Q', 'AA Mean', 'AA Median', 'AA 75% Q', 'AA Max', 'AA Range', 'AA IQR']\n",
        "# derived_bearing_rate_features =   ['BR Min', 'BR 25% Q', 'BR Mean', 'BR Median', 'BR 75% Q', 'BR Max', 'BR Range', 'BR IQR']\n",
        "\n",
        "# # another way of formatting names of derived motion features\n",
        "# min_features =     ['S Min',    'A Min',    'J Min',    'AV Min',    'AA Min',      'BR Min']\n",
        "# q25_features =     ['S 25% Q',  'A 25% Q',  'J 25% Q',  'AV 25% Q',  'AA 25% Q',    'BR 25% Q']\n",
        "# mean_features =    ['S Mean',   'A Mean',   'J Mean',   'AV Mean',   'AA Mean',     'BR Mean']\n",
        "# median_features =  ['S Median', 'A Median', 'J Median', 'AV Median', 'AA Median',   'BR Median']\n",
        "# q75_features =     ['S 75% Q',  'A 75% Q',  'J 75% Q',  'AV 75% Q',  'AA M 25% Q',  'BR 75% Q']\n",
        "# max_features =     ['S Max',    'A Max',    'J Max',    'AV Max',    'AA Max',      'BR Max']\n",
        "# range_features =   ['S Range',  'A Range',  'J Range',  'AV Range',  'AA Range',    'BR Range']\n",
        "# iqr_features =     ['S IQR',    'A IQR',    'J IQR',    'AV IQR',    'AA IQR',      'BR IQR']\n",
        "\n",
        "# derived_motion_features =   derived_speed_features + derived_acceleration_features + derived_jerk_features + \\\n",
        "#                             derived_alti_velocity_features + derived_bearing_rate_features"
      ],
      "metadata": {
        "id": "yJMxMVHsXN4l"
      },
      "execution_count": null,
      "outputs": []
    },
    {
      "cell_type": "code",
      "source": [
        "# # Names of range count features\n",
        "# speed_rc_features =         [f'S RC{i}' for i in range(7)]\n",
        "# acceleration_rc_features =  [f'A RC{i}' for i in range(7)]\n",
        "# jerk_rc_features =          [f'J RC{i}' for i in range(7)]\n",
        "# alti_velocity_rc_features = [f'AV RC{i}' for i in range(7)]\n",
        "# alti_accel_rc_features =    [f'AA RC{i}' for i in range(7)]\n",
        "# bearing_rate_rc_features =  [f'BR RC{i}' for i in range(7)]\n",
        "\n",
        "# # Concatenate all range count features\n",
        "# range_counts_features =  speed_rc_features + acceleration_rc_features + jerk_rc_features + \\\n",
        "#                         alti_velocity_rc_features + bearing_rate_rc_features"
      ],
      "metadata": {
        "id": "3GXD1jciZEqt"
      },
      "execution_count": null,
      "outputs": []
    },
    {
      "cell_type": "code",
      "source": [
        "# # Names of all useable features\n",
        "# all_features = raw_motion_features + derived_motion_features + range_counts_features\n",
        "# print(all_features)"
      ],
      "metadata": {
        "id": "PQKEaL0Wd-xQ"
      },
      "execution_count": null,
      "outputs": []
    },
    {
      "cell_type": "markdown",
      "source": [
        "### **format the data**"
      ],
      "metadata": {
        "id": "qqqETweUYhaq"
      }
    },
    {
      "cell_type": "code",
      "source": [
        "# Assuming df is your original DataFrame and raw_motion_features is defined\n",
        "features_df = df[['Mode'] + raw_motion_features]\n",
        "\n",
        "# Shuffle data\n",
        "features_df = features_df.sample(frac=1, random_state=15)\n",
        "\n",
        "# Map modes to integers\n",
        "mode_mapping = {'walk': 0, 'bike': 1, 'car': 2, 'bus': 3, 'train': 4}\n",
        "features_df['Mode'] = features_df['Mode'].map(mode_mapping)\n",
        "\n",
        "# Separate features and labels\n",
        "labels = features_df['Mode'].values\n",
        "features = features_df.drop('Mode', axis=1)\n",
        "\n",
        "# Split the data into training and test sets (75% training, 25% test)\n",
        "features_train, features_test, train_labels, test_labels = train_test_split(features, labels, test_size=0.25, random_state=57)\n",
        "\n",
        "# Assume each feature set has features named 'S0', 'S1', ..., 'BR12'\n",
        "num_features_per_group = 5  # S, A, J, AV, BR\n",
        "num_time_steps = 13  # S0 to S12, etc., implies 13 time steps\n",
        "\n",
        "# Function to reshape features into a 3D array\n",
        "def reshape_features(features_df):\n",
        "    num_samples = len(features_df)\n",
        "    train_data = np.zeros((num_samples, num_time_steps, num_features_per_group))\n",
        "    for i in range(num_time_steps):\n",
        "        train_data[:, i, 0] = features_df[f'AV{i}'].values  # Vertical velocity\n",
        "        train_data[:, i, 1] = features_df[f'BR{i}'].values  # Bearing rate\n",
        "        train_data[:, i, 2] = features_df[f'S{i}'].values  # Speed\n",
        "        train_data[:, i, 3] = features_df[f'A{i}'].values  # Acceleration\n",
        "        train_data[:, i, 4] = features_df[f'J{i}'].values  # Jerk\n",
        "    return train_data\n",
        "\n",
        "# Reshape the training and test feature sets\n",
        "train_data = reshape_features(features_train)\n",
        "test_data = reshape_features(features_test)\n",
        "\n",
        "# Now train_data and test_data are in the shape (num_samples, 13, 5)\n",
        "# labels_train and labels_test are simply (num_samples,)"
      ],
      "metadata": {
        "id": "-YTqR0gVYwxR"
      },
      "execution_count": null,
      "outputs": []
    },
    {
      "cell_type": "code",
      "source": [],
      "metadata": {
        "id": "Q8nsaN6SfhH_"
      },
      "execution_count": null,
      "outputs": []
    },
    {
      "cell_type": "code",
      "source": [
        "# df[['Mode']]"
      ],
      "metadata": {
        "id": "cLrnnAJlc4Tf"
      },
      "execution_count": null,
      "outputs": []
    },
    {
      "cell_type": "markdown",
      "source": [
        "### **CNN v1**"
      ],
      "metadata": {
        "id": "hixOq7h0XsDV"
      }
    },
    {
      "cell_type": "code",
      "source": [
        "model = models.Sequential([\n",
        "    # Input layer\n",
        "    layers.InputLayer(input_shape=(13, 5)),\n",
        "    # Convolutional layer that will process the entire set of 5 features across 3 time steps.\n",
        "    layers.Conv1D(filters=64, kernel_size=3, activation='relu', padding='same'),\n",
        "    # Another convolutional layer\n",
        "    layers.Conv1D(filters=64, kernel_size=3, activation='relu', padding='same'),\n",
        "    # Another convolutional layer\n",
        "    layers.Conv1D(filters=64, kernel_size=3, activation='relu', padding='same'),\n",
        "    # Reduce dimensionality and prepare for dense layer\n",
        "    layers.GlobalAveragePooling1D(),\n",
        "    # A dense layer for classification\n",
        "    layers.Dense(64, activation='relu'),\n",
        "    # Output layer with softmax for multi-class classification\n",
        "    layers.Dense(5, activation='softmax')\n",
        "])\n",
        "\n",
        "# Compile the model\n",
        "model.compile(\n",
        "    optimizer='adam',\n",
        "    loss='sparse_categorical_crossentropy',\n",
        "    metrics=['accuracy']\n",
        ")"
      ],
      "metadata": {
        "id": "lYl2czowZlaf"
      },
      "execution_count": null,
      "outputs": []
    },
    {
      "cell_type": "code",
      "source": [
        "# Model summary\n",
        "model.summary()"
      ],
      "metadata": {
        "colab": {
          "base_uri": "https://localhost:8080/"
        },
        "id": "anUiWE3XZlTI",
        "outputId": "cb7f9b34-f922-46ec-c005-eba5ee660130"
      },
      "execution_count": null,
      "outputs": [
        {
          "output_type": "stream",
          "name": "stdout",
          "text": [
            "Model: \"sequential_11\"\n",
            "_________________________________________________________________\n",
            " Layer (type)                Output Shape              Param #   \n",
            "=================================================================\n",
            " conv1d_27 (Conv1D)          (None, 13, 64)            1024      \n",
            "                                                                 \n",
            " conv1d_28 (Conv1D)          (None, 13, 64)            12352     \n",
            "                                                                 \n",
            " conv1d_29 (Conv1D)          (None, 13, 64)            12352     \n",
            "                                                                 \n",
            " global_average_pooling1d_8  (None, 64)                0         \n",
            "  (GlobalAveragePooling1D)                                       \n",
            "                                                                 \n",
            " dense_22 (Dense)            (None, 64)                4160      \n",
            "                                                                 \n",
            " dense_23 (Dense)            (None, 5)                 325       \n",
            "                                                                 \n",
            "=================================================================\n",
            "Total params: 30213 (118.02 KB)\n",
            "Trainable params: 30213 (118.02 KB)\n",
            "Non-trainable params: 0 (0.00 Byte)\n",
            "_________________________________________________________________\n"
          ]
        }
      ]
    },
    {
      "cell_type": "code",
      "source": [
        "# Example callback for training monitoring\n",
        "callbacks = [\n",
        "    tf.keras.callbacks.EarlyStopping(patience=3, monitor='val_loss')\n",
        "]"
      ],
      "metadata": {
        "id": "1ac-wzx4Zuff"
      },
      "execution_count": null,
      "outputs": []
    },
    {
      "cell_type": "code",
      "source": [
        "# Train the model\n",
        "history = model.fit(\n",
        "    train_data,\n",
        "    train_labels,\n",
        "    epochs=40,\n",
        "    batch_size=128,\n",
        "    validation_split=0.2,\n",
        "    # can turn callbacks off to stop early callbacks\n",
        "    # callbacks=callbacks\n",
        ")"
      ],
      "metadata": {
        "colab": {
          "base_uri": "https://localhost:8080/"
        },
        "id": "jkZJFv4tZuY2",
        "outputId": "ccf53cbb-68c4-4662-c6ae-2efcc5e3e451"
      },
      "execution_count": null,
      "outputs": [
        {
          "output_type": "stream",
          "name": "stdout",
          "text": [
            "Epoch 1/40\n",
            "160/160 [==============================] - 4s 16ms/step - loss: 0.9611 - accuracy: 0.6364 - val_loss: 0.8006 - val_accuracy: 0.7178\n",
            "Epoch 2/40\n",
            "160/160 [==============================] - 4s 24ms/step - loss: 0.7838 - accuracy: 0.7261 - val_loss: 0.7929 - val_accuracy: 0.7171\n",
            "Epoch 3/40\n",
            "160/160 [==============================] - 2s 15ms/step - loss: 0.7628 - accuracy: 0.7314 - val_loss: 0.7445 - val_accuracy: 0.7390\n",
            "Epoch 4/40\n",
            "160/160 [==============================] - 2s 14ms/step - loss: 0.7442 - accuracy: 0.7380 - val_loss: 0.7295 - val_accuracy: 0.7431\n",
            "Epoch 5/40\n",
            "160/160 [==============================] - 2s 14ms/step - loss: 0.7374 - accuracy: 0.7393 - val_loss: 0.7258 - val_accuracy: 0.7376\n",
            "Epoch 6/40\n",
            "160/160 [==============================] - 2s 14ms/step - loss: 0.7284 - accuracy: 0.7425 - val_loss: 0.7190 - val_accuracy: 0.7451\n",
            "Epoch 7/40\n",
            "160/160 [==============================] - 3s 18ms/step - loss: 0.7199 - accuracy: 0.7456 - val_loss: 0.7095 - val_accuracy: 0.7472\n",
            "Epoch 8/40\n",
            "160/160 [==============================] - 4s 22ms/step - loss: 0.7148 - accuracy: 0.7465 - val_loss: 0.7096 - val_accuracy: 0.7449\n",
            "Epoch 9/40\n",
            "160/160 [==============================] - 2s 15ms/step - loss: 0.7069 - accuracy: 0.7475 - val_loss: 0.7131 - val_accuracy: 0.7413\n",
            "Epoch 10/40\n",
            "160/160 [==============================] - 2s 14ms/step - loss: 0.7036 - accuracy: 0.7497 - val_loss: 0.7138 - val_accuracy: 0.7464\n",
            "Epoch 11/40\n",
            "160/160 [==============================] - 2s 13ms/step - loss: 0.6969 - accuracy: 0.7506 - val_loss: 0.7228 - val_accuracy: 0.7374\n",
            "Epoch 12/40\n",
            "160/160 [==============================] - 2s 13ms/step - loss: 0.6916 - accuracy: 0.7533 - val_loss: 0.6979 - val_accuracy: 0.7527\n",
            "Epoch 13/40\n",
            "160/160 [==============================] - 3s 19ms/step - loss: 0.6881 - accuracy: 0.7521 - val_loss: 0.6940 - val_accuracy: 0.7537\n",
            "Epoch 14/40\n",
            "160/160 [==============================] - 3s 20ms/step - loss: 0.6800 - accuracy: 0.7563 - val_loss: 0.6979 - val_accuracy: 0.7535\n",
            "Epoch 15/40\n",
            "160/160 [==============================] - 2s 14ms/step - loss: 0.6760 - accuracy: 0.7571 - val_loss: 0.6908 - val_accuracy: 0.7523\n",
            "Epoch 16/40\n",
            "160/160 [==============================] - 2s 13ms/step - loss: 0.6757 - accuracy: 0.7566 - val_loss: 0.6916 - val_accuracy: 0.7576\n",
            "Epoch 17/40\n",
            "160/160 [==============================] - 2s 13ms/step - loss: 0.6665 - accuracy: 0.7613 - val_loss: 0.6791 - val_accuracy: 0.7547\n",
            "Epoch 18/40\n",
            "160/160 [==============================] - 2s 15ms/step - loss: 0.6631 - accuracy: 0.7627 - val_loss: 0.6812 - val_accuracy: 0.7593\n",
            "Epoch 19/40\n",
            "160/160 [==============================] - 4s 23ms/step - loss: 0.6549 - accuracy: 0.7663 - val_loss: 0.6909 - val_accuracy: 0.7539\n",
            "Epoch 20/40\n",
            "160/160 [==============================] - 2s 14ms/step - loss: 0.6571 - accuracy: 0.7648 - val_loss: 0.6823 - val_accuracy: 0.7586\n",
            "Epoch 21/40\n",
            "160/160 [==============================] - 2s 13ms/step - loss: 0.6428 - accuracy: 0.7690 - val_loss: 0.6850 - val_accuracy: 0.7496\n",
            "Epoch 22/40\n",
            "160/160 [==============================] - 2s 14ms/step - loss: 0.6421 - accuracy: 0.7692 - val_loss: 0.6790 - val_accuracy: 0.7568\n",
            "Epoch 23/40\n",
            "160/160 [==============================] - 2s 14ms/step - loss: 0.6384 - accuracy: 0.7712 - val_loss: 0.6882 - val_accuracy: 0.7545\n",
            "Epoch 24/40\n",
            "160/160 [==============================] - 2s 14ms/step - loss: 0.6365 - accuracy: 0.7690 - val_loss: 0.6975 - val_accuracy: 0.7550\n",
            "Epoch 25/40\n",
            "160/160 [==============================] - 4s 22ms/step - loss: 0.6287 - accuracy: 0.7735 - val_loss: 0.6666 - val_accuracy: 0.7599\n",
            "Epoch 26/40\n",
            "160/160 [==============================] - 2s 14ms/step - loss: 0.6215 - accuracy: 0.7728 - val_loss: 0.6856 - val_accuracy: 0.7484\n",
            "Epoch 27/40\n",
            "160/160 [==============================] - 2s 14ms/step - loss: 0.6209 - accuracy: 0.7737 - val_loss: 0.6852 - val_accuracy: 0.7498\n",
            "Epoch 28/40\n",
            "160/160 [==============================] - 2s 14ms/step - loss: 0.6089 - accuracy: 0.7774 - val_loss: 0.6737 - val_accuracy: 0.7576\n",
            "Epoch 29/40\n",
            "160/160 [==============================] - 2s 13ms/step - loss: 0.6030 - accuracy: 0.7783 - val_loss: 0.6891 - val_accuracy: 0.7464\n",
            "Epoch 30/40\n",
            "160/160 [==============================] - 3s 16ms/step - loss: 0.5998 - accuracy: 0.7809 - val_loss: 0.6813 - val_accuracy: 0.7574\n",
            "Epoch 31/40\n",
            "160/160 [==============================] - 4s 22ms/step - loss: 0.5987 - accuracy: 0.7801 - val_loss: 0.6757 - val_accuracy: 0.7547\n",
            "Epoch 32/40\n",
            "160/160 [==============================] - 2s 14ms/step - loss: 0.5909 - accuracy: 0.7855 - val_loss: 0.6688 - val_accuracy: 0.7588\n",
            "Epoch 33/40\n",
            "160/160 [==============================] - 2s 13ms/step - loss: 0.5891 - accuracy: 0.7844 - val_loss: 0.6852 - val_accuracy: 0.7482\n",
            "Epoch 34/40\n",
            "160/160 [==============================] - 2s 13ms/step - loss: 0.5837 - accuracy: 0.7854 - val_loss: 0.6854 - val_accuracy: 0.7529\n",
            "Epoch 35/40\n",
            "160/160 [==============================] - 2s 13ms/step - loss: 0.5785 - accuracy: 0.7883 - val_loss: 0.7071 - val_accuracy: 0.7535\n",
            "Epoch 36/40\n",
            "160/160 [==============================] - 3s 16ms/step - loss: 0.5778 - accuracy: 0.7875 - val_loss: 0.6780 - val_accuracy: 0.7525\n",
            "Epoch 37/40\n",
            "160/160 [==============================] - 3s 20ms/step - loss: 0.5645 - accuracy: 0.7925 - val_loss: 0.6648 - val_accuracy: 0.7533\n",
            "Epoch 38/40\n",
            "160/160 [==============================] - 2s 13ms/step - loss: 0.5678 - accuracy: 0.7896 - val_loss: 0.6729 - val_accuracy: 0.7564\n",
            "Epoch 39/40\n",
            "160/160 [==============================] - 2s 13ms/step - loss: 0.5554 - accuracy: 0.7943 - val_loss: 0.6810 - val_accuracy: 0.7599\n",
            "Epoch 40/40\n",
            "160/160 [==============================] - 2s 15ms/step - loss: 0.5583 - accuracy: 0.7949 - val_loss: 0.6782 - val_accuracy: 0.7611\n"
          ]
        }
      ]
    },
    {
      "cell_type": "markdown",
      "source": [
        "#### Analysis of the model"
      ],
      "metadata": {
        "id": "7vxcZjGDjwKh"
      }
    },
    {
      "cell_type": "code",
      "source": [
        "import matplotlib.pyplot as plt\n",
        "\n",
        "# Plot training and validation accuracy\n",
        "plt.plot(history.history['accuracy'], label='Training Accuracy')\n",
        "plt.plot(history.history['val_accuracy'], label='Validation Accuracy')\n",
        "plt.title('Model Accuracy')\n",
        "plt.ylabel('Accuracy')\n",
        "plt.xlabel('Epoch')\n",
        "plt.legend(loc='upper left')\n",
        "plt.show()"
      ],
      "metadata": {
        "colab": {
          "base_uri": "https://localhost:8080/",
          "height": 472
        },
        "id": "Qa7OEJYYjzxy",
        "outputId": "8fa432d7-bb5b-4a8b-8333-eb17e4230f67"
      },
      "execution_count": null,
      "outputs": [
        {
          "output_type": "display_data",
          "data": {
            "text/plain": [
              "<Figure size 640x480 with 1 Axes>"
            ],
            "image/png": "[encoded data removed]"
          },
          "metadata": {}
        }
      ]
    },
    {
      "cell_type": "code",
      "source": [
        "test_loss, test_accuracy = model.evaluate(test_data, test_labels)\n",
        "print(f\"Test Accuracy: {test_accuracy * 100:.2f}%\")"
      ],
      "metadata": {
        "colab": {
          "base_uri": "https://localhost:8080/"
        },
        "id": "KkOdawseAcLP",
        "outputId": "eeb8995f-c344-4ae6-e3dd-fd381cb706f0"
      },
      "execution_count": null,
      "outputs": [
        {
          "output_type": "stream",
          "name": "stdout",
          "text": [
            "266/266 [==============================] - 1s 3ms/step - loss: 0.6761 - accuracy: 0.7709\n",
            "Test Accuracy: 77.09%\n"
          ]
        }
      ]
    },
    {
      "cell_type": "code",
      "source": [
        "# Predict classes on the test set\n",
        "predictions = model.predict(test_data)\n",
        "predicted_classes = np.argmax(predictions, axis=1)\n",
        "\n",
        "# Generate confusion matrix\n",
        "cm = confusion_matrix(test_labels, predicted_classes)\n",
        "\n",
        "# Define the class labels\n",
        "class_labels = ['walk', 'bike', 'car', 'bus', 'train']  # Adjust this to your actual class labels\n",
        "\n",
        "# Create a heatmap for the confusion matrix\n",
        "sns.heatmap(cm, annot=True, cmap='summer', fmt='g', xticklabels=class_labels, yticklabels=class_labels)\n",
        "plt.title('Confusion Matrix')\n",
        "plt.xlabel('Predicted')\n",
        "plt.ylabel('Actual')\n",
        "plt.show()\n",
        "\n",
        "report = classification_report(test_labels, predicted_classes, target_names=['walk', 'bike', 'car', 'bus', 'train'])\n",
        "print(report)"
      ],
      "metadata": {
        "colab": {
          "base_uri": "https://localhost:8080/",
          "height": 767
        },
        "id": "R5nxJYFXAcIH",
        "outputId": "bd54eb82-7d75-4fac-aae8-d8d4444766bd"
      },
      "execution_count": null,
      "outputs": [
        {
          "output_type": "stream",
          "name": "stdout",
          "text": [
            "266/266 [==============================] - 1s 3ms/step\n"
          ]
        },
        {
          "output_type": "stream",
          "name": "stderr",
          "text": [
            "Exception ignored in: <function _xla_gc_callback at 0x789ea9e95ea0>\n",
            "Traceback (most recent call last):\n",
            "  File \"/usr/local/lib/python3.10/dist-packages/jax/_src/lib/__init__.py\", line 98, in _xla_gc_callback\n",
            "KeyboardInterrupt: \n"
          ]
        },
        {
          "output_type": "display_data",
          "data": {
            "text/plain": [
              "<Figure size 640x480 with 2 Axes>"
            ],
            "image/png": "[encoded data removed]"
          },
          "metadata": {}
        },
        {
          "output_type": "stream",
          "name": "stdout",
          "text": [
            "              precision    recall  f1-score   support\n",
            "\n",
            "        walk       0.74      0.90      0.81      1679\n",
            "        bike       0.86      0.85      0.85      2061\n",
            "         car       0.45      0.25      0.32       643\n",
            "         bus       0.64      0.46      0.54      1242\n",
            "       train       0.80      0.88      0.84      2886\n",
            "\n",
            "    accuracy                           0.77      8511\n",
            "   macro avg       0.70      0.67      0.67      8511\n",
            "weighted avg       0.75      0.77      0.75      8511\n",
            "\n"
          ]
        }
      ]
    },
    {
      "cell_type": "code",
      "source": [],
      "metadata": {
        "id": "ZONwWWrBAcAn"
      },
      "execution_count": null,
      "outputs": []
    }
  ]
}