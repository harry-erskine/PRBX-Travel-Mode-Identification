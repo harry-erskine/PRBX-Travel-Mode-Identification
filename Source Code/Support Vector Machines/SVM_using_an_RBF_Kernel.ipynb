{
  "nbformat": 4,
  "nbformat_minor": 0,
  "metadata": {
    "colab": {
      "provenance": [],
      "collapsed_sections": [
        "K4oaIySoMn6B",
        "oGaeBtLKYsCe",
        "jpMOmP7-SDVn"
      ],
      "machine_shape": "hm",
      "gpuType": "L4",
      "include_colab_link": true
    },
    "kernelspec": {
      "name": "python3",
      "display_name": "Python 3"
    },
    "language_info": {
      "name": "python"
    },
    "accelerator": "GPU"
  },
  "cells": [
    {
      "cell_type": "markdown",
      "metadata": {
        "id": "view-in-github",
        "colab_type": "text"
      },
      "source": [
        "<a href=\"https://colab.research.google.com/github/harry-erskine/PRBX-Travel-Mode-Identification/blob/main/Source%20Code/Support%20Vector%20Machines/SVM_using_an_RBF_Kernel.ipynb\" target=\"_parent\"><img src=\"https://colab.research.google.com/assets/colab-badge.svg\" alt=\"Open In Colab\"/></a>"
      ]
    },
    {
      "cell_type": "markdown",
      "source": [
        "## **Support Vector Machines**"
      ],
      "metadata": {
        "id": "NyBrjfOS5Jis"
      }
    },
    {
      "cell_type": "markdown",
      "source": [
        "### **Data Preferences**"
      ],
      "metadata": {
        "id": "9-soFKGvM09J"
      }
    },
    {
      "cell_type": "code",
      "execution_count": null,
      "metadata": {
        "id": "XxbFTVLI5IhX"
      },
      "outputs": [],
      "source": [
        "### VARIABLES ###\n",
        "\n",
        "groupSize = 16                  # How many trajectories are represented in each group\n",
        "motion_points = groupSize - 3    # Do not change this variable\n",
        "\n",
        "# variables below all 'True' or 'False' (where all 'False' represents the most filtered version of the data)\n",
        "\n",
        "include_impossible_groups = False      # include groups with trajectories that I have deemed to be invalid\n",
        "include_stationary_groups = False      # include groups where there is less than 3 meters of total movement\n",
        "include_airplane_and_boat = False      # include groups where the mode of transportation was 'airplane' or 'boat'\n",
        "include_all_time_ranges = False        # include groups where the time between each trajectory is more than 1 second"
      ]
    },
    {
      "cell_type": "markdown",
      "source": [
        "### **Notebook Setup**"
      ],
      "metadata": {
        "id": "K4oaIySoMn6B"
      }
    },
    {
      "cell_type": "code",
      "source": [
        "### INSTALLS ###\n",
        "\n",
        "# !pip install --upgrade gspread\n",
        "# !pip install pandas\n",
        "# !pip install scikit-learn"
      ],
      "metadata": {
        "id": "Nv-xlIhf5k_A"
      },
      "execution_count": null,
      "outputs": []
    },
    {
      "cell_type": "code",
      "source": [
        "### IMPORTS ###\n",
        "\n",
        "import os\n",
        "from google.colab import drive\n",
        "import pandas as pd\n",
        "import numpy as np\n",
        "import time\n",
        "#\n",
        "import matplotlib.pyplot as plt\n",
        "from sklearn import preprocessing\n",
        "from sklearn.model_selection import train_test_split\n",
        "from sklearn.model_selection import KFold\n",
        "from sklearn.model_selection import cross_val_score\n",
        "from sklearn.model_selection import cross_val_predict\n",
        "from sklearn.metrics import confusion_matrix\n",
        "import matplotlib.pyplot as plt\n",
        "import seaborn as sns\n",
        "from sklearn.svm import SVC, LinearSVC\n",
        "from mpl_toolkits import mplot3d\n",
        "from sklearn.metrics import accuracy_score"
      ],
      "metadata": {
        "id": "XnI98A1s5lfa"
      },
      "execution_count": null,
      "outputs": []
    },
    {
      "cell_type": "code",
      "source": [
        "### MOUNT GOOGLE DRIVE ###\n",
        "\n",
        "mainMountPath = '/content/gdrive'\n",
        "mainDrivePath = '/content/gdrive/MyDrive/Colab Notebooks/PRBX'\n",
        "\n",
        "drive.mount(mainMountPath, force_remount=True)"
      ],
      "metadata": {
        "colab": {
          "base_uri": "https://localhost:8080/"
        },
        "id": "TLHjfMJK5t-P",
        "outputId": "d29e1e63-3f83-4083-84c4-1f69e61349a9"
      },
      "execution_count": null,
      "outputs": [
        {
          "output_type": "stream",
          "name": "stdout",
          "text": [
            "Mounted at /content/gdrive\n"
          ]
        }
      ]
    },
    {
      "cell_type": "code",
      "source": [
        "### FILE PATHS ###\n",
        "\n",
        "generatedFilesPath = mainDrivePath + '/Data Files/Generated Files'\n",
        "cleanedMotionDataPath = generatedFilesPath + '/cleanedMotionDataX' + str(groupSize) + '.csv'"
      ],
      "metadata": {
        "id": "afNnC4mU5vhn"
      },
      "execution_count": null,
      "outputs": []
    },
    {
      "cell_type": "code",
      "source": [
        "cmdf = pd.read_csv(cleanedMotionDataPath)\n",
        "cmdf = cmdf.drop('Unnamed: 0', axis=1)"
      ],
      "metadata": {
        "id": "cjTdcMAgSse9"
      },
      "execution_count": null,
      "outputs": []
    },
    {
      "cell_type": "code",
      "source": [
        "df = cmdf\n",
        "\n",
        "if include_impossible_groups == False:\n",
        "  df = df[df['Impossible'] == False]\n",
        "\n",
        "if include_stationary_groups == False:\n",
        "  df = df[df['Stationary'] == False]\n",
        "\n",
        "if include_airplane_and_boat == False:\n",
        "  df.drop(df[df['Mode'] == 'airplane'].index, inplace=True)\n",
        "  df.drop(df[df['Mode'] == 'boat'].index, inplace=True)\n",
        "\n",
        "if include_all_time_ranges == False:\n",
        "  df = df[df['DT Max'] == 1]\n",
        "\n",
        "df = df.reset_index(drop=True)\n",
        "df"
      ],
      "metadata": {
        "colab": {
          "base_uri": "https://localhost:8080/"
        },
        "id": "NIalbUj26_0q",
        "outputId": "657da3e0-eb7b-4b1c-ef1b-c02430fc7dcb"
      },
      "execution_count": null,
      "outputs": [
        {
          "output_type": "stream",
          "name": "stderr",
          "text": [
            "<ipython-input-7-26835d7f0274>:10: SettingWithCopyWarning: \n",
            "A value is trying to be set on a copy of a slice from a DataFrame\n",
            "\n",
            "See the caveats in the documentation: https://pandas.pydata.org/pandas-docs/stable/user_guide/indexing.html#returning-a-view-versus-a-copy\n",
            "  df.drop(df[df['Mode'] == 'airplane'].index, inplace=True)\n"
          ]
        },
        {
          "output_type": "execute_result",
          "data": {
            "text/plain": [
              "       GroupId  UserId   Mode Old Mode         S0         S1         S2  \\\n",
              "0            2      10   walk     walk   0.924945   0.612202   0.653157   \n",
              "1            3      10   walk     walk   1.023958   1.404956   1.236617   \n",
              "2            4      10   walk     walk   0.849970   0.892355   0.374902   \n",
              "3            5      10   walk     walk   1.400033   1.123503   0.924945   \n",
              "4           10      10   walk     walk   1.290664   1.224914   1.376708   \n",
              "...        ...     ...    ...      ...        ...        ...        ...   \n",
              "34038   255992     170  train   subway  16.766430  16.435106  16.441095   \n",
              "34039   255997     170  train   subway  19.446215  18.808494  18.960869   \n",
              "34040   255998     170  train   subway  17.509862  17.397213  17.121927   \n",
              "34041   255999     170  train   subway  19.147764  19.269044  18.927584   \n",
              "34042   256000     170  train   subway  18.267321  18.355088  18.465247   \n",
              "\n",
              "              S3         S4         S5  ...  AA RC6  BR RC0  BR RC1  BR RC2  \\\n",
              "0       0.452357   0.561752   0.333074  ...       0       7       2       3   \n",
              "1       1.306314   1.680328   2.800066  ...       1       6       4       1   \n",
              "2       0.280925   0.484137   0.561983  ...       0       2       6       3   \n",
              "3       1.162368   1.123503   2.261784  ...       0       3       5       3   \n",
              "4       1.204619   1.224677   0.819108  ...       0       7       2       2   \n",
              "...          ...        ...        ...  ...     ...     ...     ...     ...   \n",
              "34038  15.988970  15.434033  15.109384  ...       0      13       0       0   \n",
              "34039  19.048962  18.238457  17.001455  ...       0      13       0       0   \n",
              "34040  17.001256  17.058019  17.375697  ...       0      13       0       0   \n",
              "34041  19.016195  18.334404  18.775589  ...       0      13       0       0   \n",
              "34042  18.324652  18.536094  17.793590  ...       0      13       0       0   \n",
              "\n",
              "       BR RC3  BR RC4  BR RC5  BR RC6  Impossible  Stationary  \n",
              "0           1       0       0       0       False       False  \n",
              "1           2       0       0       0       False       False  \n",
              "2           2       0       0       0       False       False  \n",
              "3           2       0       0       0       False       False  \n",
              "4           2       0       0       0       False       False  \n",
              "...       ...     ...     ...     ...         ...         ...  \n",
              "34038       0       0       0       0       False       False  \n",
              "34039       0       0       0       0       False       False  \n",
              "34040       0       0       0       0       False       False  \n",
              "34041       0       0       0       0       False       False  \n",
              "34042       0       0       0       0       False       False  \n",
              "\n",
              "[34043 rows x 178 columns]"
            ],
            "text/html": [
              "\n",
              "  <div id=\"df-113346ed-14cf-4342-ad53-0add6f870e7a\" class=\"colab-df-container\">\n",
              "    <div>\n",
              "<style scoped>\n",
              "    .dataframe tbody tr th:only-of-type {\n",
              "        vertical-align: middle;\n",
              "    }\n",
              "\n",
              "    .dataframe tbody tr th {\n",
              "        vertical-align: top;\n",
              "    }\n",
              "\n",
              "    .dataframe thead th {\n",
              "        text-align: right;\n",
              "    }\n",
              "</style>\n",
              "<table border=\"1\" class=\"dataframe\">\n",
              "  <thead>\n",
              "    <tr style=\"text-align: right;\">\n",
              "      <th></th>\n",
              "      <th>GroupId</th>\n",
              "      <th>UserId</th>\n",
              "      <th>Mode</th>\n",
              "      <th>Old Mode</th>\n",
              "      <th>S0</th>\n",
              "      <th>S1</th>\n",
              "      <th>S2</th>\n",
              "      <th>S3</th>\n",
              "      <th>S4</th>\n",
              "      <th>S5</th>\n",
              "      <th>...</th>\n",
              "      <th>AA RC6</th>\n",
              "      <th>BR RC0</th>\n",
              "      <th>BR RC1</th>\n",
              "      <th>BR RC2</th>\n",
              "      <th>BR RC3</th>\n",
              "      <th>BR RC4</th>\n",
              "      <th>BR RC5</th>\n",
              "      <th>BR RC6</th>\n",
              "      <th>Impossible</th>\n",
              "      <th>Stationary</th>\n",
              "    </tr>\n",
              "  </thead>\n",
              "  <tbody>\n",
              "    <tr>\n",
              "      <th>0</th>\n",
              "      <td>2</td>\n",
              "      <td>10</td>\n",
              "      <td>walk</td>\n",
              "      <td>walk</td>\n",
              "      <td>0.924945</td>\n",
              "      <td>0.612202</td>\n",
              "      <td>0.653157</td>\n",
              "      <td>0.452357</td>\n",
              "      <td>0.561752</td>\n",
              "      <td>0.333074</td>\n",
              "      <td>...</td>\n",
              "      <td>0</td>\n",
              "      <td>7</td>\n",
              "      <td>2</td>\n",
              "      <td>3</td>\n",
              "      <td>1</td>\n",
              "      <td>0</td>\n",
              "      <td>0</td>\n",
              "      <td>0</td>\n",
              "      <td>False</td>\n",
              "      <td>False</td>\n",
              "    </tr>\n",
              "    <tr>\n",
              "      <th>1</th>\n",
              "      <td>3</td>\n",
              "      <td>10</td>\n",
              "      <td>walk</td>\n",
              "      <td>walk</td>\n",
              "      <td>1.023958</td>\n",
              "      <td>1.404956</td>\n",
              "      <td>1.236617</td>\n",
              "      <td>1.306314</td>\n",
              "      <td>1.680328</td>\n",
              "      <td>2.800066</td>\n",
              "      <td>...</td>\n",
              "      <td>1</td>\n",
              "      <td>6</td>\n",
              "      <td>4</td>\n",
              "      <td>1</td>\n",
              "      <td>2</td>\n",
              "      <td>0</td>\n",
              "      <td>0</td>\n",
              "      <td>0</td>\n",
              "      <td>False</td>\n",
              "      <td>False</td>\n",
              "    </tr>\n",
              "    <tr>\n",
              "      <th>2</th>\n",
              "      <td>4</td>\n",
              "      <td>10</td>\n",
              "      <td>walk</td>\n",
              "      <td>walk</td>\n",
              "      <td>0.849970</td>\n",
              "      <td>0.892355</td>\n",
              "      <td>0.374902</td>\n",
              "      <td>0.280925</td>\n",
              "      <td>0.484137</td>\n",
              "      <td>0.561983</td>\n",
              "      <td>...</td>\n",
              "      <td>0</td>\n",
              "      <td>2</td>\n",
              "      <td>6</td>\n",
              "      <td>3</td>\n",
              "      <td>2</td>\n",
              "      <td>0</td>\n",
              "      <td>0</td>\n",
              "      <td>0</td>\n",
              "      <td>False</td>\n",
              "      <td>False</td>\n",
              "    </tr>\n",
              "    <tr>\n",
              "      <th>3</th>\n",
              "      <td>5</td>\n",
              "      <td>10</td>\n",
              "      <td>walk</td>\n",
              "      <td>walk</td>\n",
              "      <td>1.400033</td>\n",
              "      <td>1.123503</td>\n",
              "      <td>0.924945</td>\n",
              "      <td>1.162368</td>\n",
              "      <td>1.123503</td>\n",
              "      <td>2.261784</td>\n",
              "      <td>...</td>\n",
              "      <td>0</td>\n",
              "      <td>3</td>\n",
              "      <td>5</td>\n",
              "      <td>3</td>\n",
              "      <td>2</td>\n",
              "      <td>0</td>\n",
              "      <td>0</td>\n",
              "      <td>0</td>\n",
              "      <td>False</td>\n",
              "      <td>False</td>\n",
              "    </tr>\n",
              "    <tr>\n",
              "      <th>4</th>\n",
              "      <td>10</td>\n",
              "      <td>10</td>\n",
              "      <td>walk</td>\n",
              "      <td>walk</td>\n",
              "      <td>1.290664</td>\n",
              "      <td>1.224914</td>\n",
              "      <td>1.376708</td>\n",
              "      <td>1.204619</td>\n",
              "      <td>1.224677</td>\n",
              "      <td>0.819108</td>\n",
              "      <td>...</td>\n",
              "      <td>0</td>\n",
              "      <td>7</td>\n",
              "      <td>2</td>\n",
              "      <td>2</td>\n",
              "      <td>2</td>\n",
              "      <td>0</td>\n",
              "      <td>0</td>\n",
              "      <td>0</td>\n",
              "      <td>False</td>\n",
              "      <td>False</td>\n",
              "    </tr>\n",
              "    <tr>\n",
              "      <th>...</th>\n",
              "      <td>...</td>\n",
              "      <td>...</td>\n",
              "      <td>...</td>\n",
              "      <td>...</td>\n",
              "      <td>...</td>\n",
              "      <td>...</td>\n",
              "      <td>...</td>\n",
              "      <td>...</td>\n",
              "      <td>...</td>\n",
              "      <td>...</td>\n",
              "      <td>...</td>\n",
              "      <td>...</td>\n",
              "      <td>...</td>\n",
              "      <td>...</td>\n",
              "      <td>...</td>\n",
              "      <td>...</td>\n",
              "      <td>...</td>\n",
              "      <td>...</td>\n",
              "      <td>...</td>\n",
              "      <td>...</td>\n",
              "      <td>...</td>\n",
              "    </tr>\n",
              "    <tr>\n",
              "      <th>34038</th>\n",
              "      <td>255992</td>\n",
              "      <td>170</td>\n",
              "      <td>train</td>\n",
              "      <td>subway</td>\n",
              "      <td>16.766430</td>\n",
              "      <td>16.435106</td>\n",
              "      <td>16.441095</td>\n",
              "      <td>15.988970</td>\n",
              "      <td>15.434033</td>\n",
              "      <td>15.109384</td>\n",
              "      <td>...</td>\n",
              "      <td>0</td>\n",
              "      <td>13</td>\n",
              "      <td>0</td>\n",
              "      <td>0</td>\n",
              "      <td>0</td>\n",
              "      <td>0</td>\n",
              "      <td>0</td>\n",
              "      <td>0</td>\n",
              "      <td>False</td>\n",
              "      <td>False</td>\n",
              "    </tr>\n",
              "    <tr>\n",
              "      <th>34039</th>\n",
              "      <td>255997</td>\n",
              "      <td>170</td>\n",
              "      <td>train</td>\n",
              "      <td>subway</td>\n",
              "      <td>19.446215</td>\n",
              "      <td>18.808494</td>\n",
              "      <td>18.960869</td>\n",
              "      <td>19.048962</td>\n",
              "      <td>18.238457</td>\n",
              "      <td>17.001455</td>\n",
              "      <td>...</td>\n",
              "      <td>0</td>\n",
              "      <td>13</td>\n",
              "      <td>0</td>\n",
              "      <td>0</td>\n",
              "      <td>0</td>\n",
              "      <td>0</td>\n",
              "      <td>0</td>\n",
              "      <td>0</td>\n",
              "      <td>False</td>\n",
              "      <td>False</td>\n",
              "    </tr>\n",
              "    <tr>\n",
              "      <th>34040</th>\n",
              "      <td>255998</td>\n",
              "      <td>170</td>\n",
              "      <td>train</td>\n",
              "      <td>subway</td>\n",
              "      <td>17.509862</td>\n",
              "      <td>17.397213</td>\n",
              "      <td>17.121927</td>\n",
              "      <td>17.001256</td>\n",
              "      <td>17.058019</td>\n",
              "      <td>17.375697</td>\n",
              "      <td>...</td>\n",
              "      <td>0</td>\n",
              "      <td>13</td>\n",
              "      <td>0</td>\n",
              "      <td>0</td>\n",
              "      <td>0</td>\n",
              "      <td>0</td>\n",
              "      <td>0</td>\n",
              "      <td>0</td>\n",
              "      <td>False</td>\n",
              "      <td>False</td>\n",
              "    </tr>\n",
              "    <tr>\n",
              "      <th>34041</th>\n",
              "      <td>255999</td>\n",
              "      <td>170</td>\n",
              "      <td>train</td>\n",
              "      <td>subway</td>\n",
              "      <td>19.147764</td>\n",
              "      <td>19.269044</td>\n",
              "      <td>18.927584</td>\n",
              "      <td>19.016195</td>\n",
              "      <td>18.334404</td>\n",
              "      <td>18.775589</td>\n",
              "      <td>...</td>\n",
              "      <td>0</td>\n",
              "      <td>13</td>\n",
              "      <td>0</td>\n",
              "      <td>0</td>\n",
              "      <td>0</td>\n",
              "      <td>0</td>\n",
              "      <td>0</td>\n",
              "      <td>0</td>\n",
              "      <td>False</td>\n",
              "      <td>False</td>\n",
              "    </tr>\n",
              "    <tr>\n",
              "      <th>34042</th>\n",
              "      <td>256000</td>\n",
              "      <td>170</td>\n",
              "      <td>train</td>\n",
              "      <td>subway</td>\n",
              "      <td>18.267321</td>\n",
              "      <td>18.355088</td>\n",
              "      <td>18.465247</td>\n",
              "      <td>18.324652</td>\n",
              "      <td>18.536094</td>\n",
              "      <td>17.793590</td>\n",
              "      <td>...</td>\n",
              "      <td>0</td>\n",
              "      <td>13</td>\n",
              "      <td>0</td>\n",
              "      <td>0</td>\n",
              "      <td>0</td>\n",
              "      <td>0</td>\n",
              "      <td>0</td>\n",
              "      <td>0</td>\n",
              "      <td>False</td>\n",
              "      <td>False</td>\n",
              "    </tr>\n",
              "  </tbody>\n",
              "</table>\n",
              "<p>34043 rows × 178 columns</p>\n",
              "</div>\n",
              "    <div class=\"colab-df-buttons\">\n",
              "\n",
              "  <div class=\"colab-df-container\">\n",
              "    <button class=\"colab-df-convert\" onclick=\"convertToInteractive('df-113346ed-14cf-4342-ad53-0add6f870e7a')\"\n",
              "            title=\"Convert this dataframe to an interactive table.\"\n",
              "            style=\"display:none;\">\n",
              "\n",
              "  <svg xmlns=\"http://www.w3.org/2000/svg\" height=\"24px\" viewBox=\"0 -960 960 960\">\n",
              "    <path d=\"M120-120v-720h720v720H120Zm60-500h600v-160H180v160Zm220 220h160v-160H400v160Zm0 220h160v-160H400v160ZM180-400h160v-160H180v160Zm440 0h160v-160H620v160ZM180-180h160v-160H180v160Zm440 0h160v-160H620v160Z\"/>\n",
              "  </svg>\n",
              "    </button>\n",
              "\n",
              "  <style>\n",
              "    .colab-df-container {\n",
              "      display:flex;\n",
              "      gap: 12px;\n",
              "    }\n",
              "\n",
              "    .colab-df-convert {\n",
              "      background-color: #E8F0FE;\n",
              "      border: none;\n",
              "      border-radius: 50%;\n",
              "      cursor: pointer;\n",
              "      display: none;\n",
              "      fill: #1967D2;\n",
              "      height: 32px;\n",
              "      padding: 0 0 0 0;\n",
              "      width: 32px;\n",
              "    }\n",
              "\n",
              "    .colab-df-convert:hover {\n",
              "      background-color: #E2EBFA;\n",
              "      box-shadow: 0px 1px 2px rgba(60, 64, 67, 0.3), 0px 1px 3px 1px rgba(60, 64, 67, 0.15);\n",
              "      fill: #174EA6;\n",
              "    }\n",
              "\n",
              "    .colab-df-buttons div {\n",
              "      margin-bottom: 4px;\n",
              "    }\n",
              "\n",
              "    [theme=dark] .colab-df-convert {\n",
              "      background-color: #3B4455;\n",
              "      fill: #D2E3FC;\n",
              "    }\n",
              "\n",
              "    [theme=dark] .colab-df-convert:hover {\n",
              "      background-color: #434B5C;\n",
              "      box-shadow: 0px 1px 3px 1px rgba(0, 0, 0, 0.15);\n",
              "      filter: drop-shadow(0px 1px 2px rgba(0, 0, 0, 0.3));\n",
              "      fill: #FFFFFF;\n",
              "    }\n",
              "  </style>\n",
              "\n",
              "    <script>\n",
              "      const buttonEl =\n",
              "        document.querySelector('#df-113346ed-14cf-4342-ad53-0add6f870e7a button.colab-df-convert');\n",
              "      buttonEl.style.display =\n",
              "        google.colab.kernel.accessAllowed ? 'block' : 'none';\n",
              "\n",
              "      async function convertToInteractive(key) {\n",
              "        const element = document.querySelector('#df-113346ed-14cf-4342-ad53-0add6f870e7a');\n",
              "        const dataTable =\n",
              "          await google.colab.kernel.invokeFunction('convertToInteractive',\n",
              "                                                    [key], {});\n",
              "        if (!dataTable) return;\n",
              "\n",
              "        const docLinkHtml = 'Like what you see? Visit the ' +\n",
              "          '<a target=\"_blank\" href=https://colab.research.google.com/notebooks/data_table.ipynb>data table notebook</a>'\n",
              "          + ' to learn more about interactive tables.';\n",
              "        element.innerHTML = '';\n",
              "        dataTable['output_type'] = 'display_data';\n",
              "        await google.colab.output.renderOutput(dataTable, element);\n",
              "        const docLink = document.createElement('div');\n",
              "        docLink.innerHTML = docLinkHtml;\n",
              "        element.appendChild(docLink);\n",
              "      }\n",
              "    </script>\n",
              "  </div>\n",
              "\n",
              "\n",
              "<div id=\"df-4955c817-feb4-4a33-91d9-3f8b1052c8c9\">\n",
              "  <button class=\"colab-df-quickchart\" onclick=\"quickchart('df-4955c817-feb4-4a33-91d9-3f8b1052c8c9')\"\n",
              "            title=\"Suggest charts\"\n",
              "            style=\"display:none;\">\n",
              "\n",
              "<svg xmlns=\"http://www.w3.org/2000/svg\" height=\"24px\"viewBox=\"0 0 24 24\"\n",
              "     width=\"24px\">\n",
              "    <g>\n",
              "        <path d=\"M19 3H5c-1.1 0-2 .9-2 2v14c0 1.1.9 2 2 2h14c1.1 0 2-.9 2-2V5c0-1.1-.9-2-2-2zM9 17H7v-7h2v7zm4 0h-2V7h2v10zm4 0h-2v-4h2v4z\"/>\n",
              "    </g>\n",
              "</svg>\n",
              "  </button>\n",
              "\n",
              "<style>\n",
              "  .colab-df-quickchart {\n",
              "      --bg-color: #E8F0FE;\n",
              "      --fill-color: #1967D2;\n",
              "      --hover-bg-color: #E2EBFA;\n",
              "      --hover-fill-color: #174EA6;\n",
              "      --disabled-fill-color: #AAA;\n",
              "      --disabled-bg-color: #DDD;\n",
              "  }\n",
              "\n",
              "  [theme=dark] .colab-df-quickchart {\n",
              "      --bg-color: #3B4455;\n",
              "      --fill-color: #D2E3FC;\n",
              "      --hover-bg-color: #434B5C;\n",
              "      --hover-fill-color: #FFFFFF;\n",
              "      --disabled-bg-color: #3B4455;\n",
              "      --disabled-fill-color: #666;\n",
              "  }\n",
              "\n",
              "  .colab-df-quickchart {\n",
              "    background-color: var(--bg-color);\n",
              "    border: none;\n",
              "    border-radius: 50%;\n",
              "    cursor: pointer;\n",
              "    display: none;\n",
              "    fill: var(--fill-color);\n",
              "    height: 32px;\n",
              "    padding: 0;\n",
              "    width: 32px;\n",
              "  }\n",
              "\n",
              "  .colab-df-quickchart:hover {\n",
              "    background-color: var(--hover-bg-color);\n",
              "    box-shadow: 0 1px 2px rgba(60, 64, 67, 0.3), 0 1px 3px 1px rgba(60, 64, 67, 0.15);\n",
              "    fill: var(--button-hover-fill-color);\n",
              "  }\n",
              "\n",
              "  .colab-df-quickchart-complete:disabled,\n",
              "  .colab-df-quickchart-complete:disabled:hover {\n",
              "    background-color: var(--disabled-bg-color);\n",
              "    fill: var(--disabled-fill-color);\n",
              "    box-shadow: none;\n",
              "  }\n",
              "\n",
              "  .colab-df-spinner {\n",
              "    border: 2px solid var(--fill-color);\n",
              "    border-color: transparent;\n",
              "    border-bottom-color: var(--fill-color);\n",
              "    animation:\n",
              "      spin 1s steps(1) infinite;\n",
              "  }\n",
              "\n",
              "  @keyframes spin {\n",
              "    0% {\n",
              "      border-color: transparent;\n",
              "      border-bottom-color: var(--fill-color);\n",
              "      border-left-color: var(--fill-color);\n",
              "    }\n",
              "    20% {\n",
              "      border-color: transparent;\n",
              "      border-left-color: var(--fill-color);\n",
              "      border-top-color: var(--fill-color);\n",
              "    }\n",
              "    30% {\n",
              "      border-color: transparent;\n",
              "      border-left-color: var(--fill-color);\n",
              "      border-top-color: var(--fill-color);\n",
              "      border-right-color: var(--fill-color);\n",
              "    }\n",
              "    40% {\n",
              "      border-color: transparent;\n",
              "      border-right-color: var(--fill-color);\n",
              "      border-top-color: var(--fill-color);\n",
              "    }\n",
              "    60% {\n",
              "      border-color: transparent;\n",
              "      border-right-color: var(--fill-color);\n",
              "    }\n",
              "    80% {\n",
              "      border-color: transparent;\n",
              "      border-right-color: var(--fill-color);\n",
              "      border-bottom-color: var(--fill-color);\n",
              "    }\n",
              "    90% {\n",
              "      border-color: transparent;\n",
              "      border-bottom-color: var(--fill-color);\n",
              "    }\n",
              "  }\n",
              "</style>\n",
              "\n",
              "  <script>\n",
              "    async function quickchart(key) {\n",
              "      const quickchartButtonEl =\n",
              "        document.querySelector('#' + key + ' button');\n",
              "      quickchartButtonEl.disabled = true;  // To prevent multiple clicks.\n",
              "      quickchartButtonEl.classList.add('colab-df-spinner');\n",
              "      try {\n",
              "        const charts = await google.colab.kernel.invokeFunction(\n",
              "            'suggestCharts', [key], {});\n",
              "      } catch (error) {\n",
              "        console.error('Error during call to suggestCharts:', error);\n",
              "      }\n",
              "      quickchartButtonEl.classList.remove('colab-df-spinner');\n",
              "      quickchartButtonEl.classList.add('colab-df-quickchart-complete');\n",
              "    }\n",
              "    (() => {\n",
              "      let quickchartButtonEl =\n",
              "        document.querySelector('#df-4955c817-feb4-4a33-91d9-3f8b1052c8c9 button');\n",
              "      quickchartButtonEl.style.display =\n",
              "        google.colab.kernel.accessAllowed ? 'block' : 'none';\n",
              "    })();\n",
              "  </script>\n",
              "</div>\n",
              "    </div>\n",
              "  </div>\n"
            ],
            "application/vnd.google.colaboratory.intrinsic+json": {
              "type": "dataframe",
              "variable_name": "df"
            }
          },
          "metadata": {},
          "execution_count": 7
        }
      ]
    },
    {
      "cell_type": "code",
      "source": [
        "print(df['Mode'].unique())"
      ],
      "metadata": {
        "colab": {
          "base_uri": "https://localhost:8080/"
        },
        "id": "Di_y_D6ACpq8",
        "outputId": "68d9ea76-c010-4b0f-9d65-9ddcd7edec21"
      },
      "execution_count": null,
      "outputs": [
        {
          "output_type": "stream",
          "name": "stdout",
          "text": [
            "['walk' 'car' 'bus' 'train' 'bike']\n"
          ]
        }
      ]
    },
    {
      "cell_type": "code",
      "source": [
        "# columns_cmdf = cmdf.columns.tolist()\n",
        "\n",
        "# # Print columns in groups of 20 lines\n",
        "# for i in range(0, len(columns_cmdf), 10):\n",
        "#     print(columns_cmdf[i:i+10])"
      ],
      "metadata": {
        "id": "HkhlaQwjTp_j"
      },
      "execution_count": null,
      "outputs": []
    },
    {
      "cell_type": "code",
      "source": [
        "# Names of raw motion features\n",
        "raw_speed_features =          [f'S{i}' for i in range(motion_points)]\n",
        "raw_acceleration_features =   [f'A{i}' for i in range(motion_points)]\n",
        "raw_jerk_features =           [f'J{i}' for i in range(motion_points)]\n",
        "raw_alti_velocity_features =  [f'AV{i}' for i in range(motion_points)]\n",
        "raw_alti_accel_features =     [f'AA{i}' for i in range(motion_points)]\n",
        "raw_bearing_rate_features =   [f'BR{i}' for i in range(motion_points)]\n",
        "\n",
        "raw_motion_features = raw_speed_features + raw_acceleration_features + raw_jerk_features + \\\n",
        "                      raw_alti_velocity_features + raw_bearing_rate_features"
      ],
      "metadata": {
        "id": "dNREBbJYXBQ-"
      },
      "execution_count": null,
      "outputs": []
    },
    {
      "cell_type": "code",
      "source": [
        "# Names of derived motion features\n",
        "derived_speed_features =          ['S Min', 'S 25% Q', 'S Mean', 'S Median', 'S 75% Q', 'S Max', 'S Range', 'S IQR']\n",
        "derived_acceleration_features =   ['A Min', 'A 25% Q', 'A Mean', 'A Median', 'A 75% Q', 'A Max', 'A Range', 'A IQR']\n",
        "derived_jerk_features =           ['J Min', 'J 25% Q', 'J Mean', 'J Median', 'J 75% Q', 'J Max', 'J Range', 'J IQR']\n",
        "derived_alti_velocity_features =  ['AV Min', 'AV 25% Q', 'AV Mean', 'AV Median', 'AV 75% Q', 'AV Max', 'AV Range', 'AV IQR']\n",
        "derived_alti_accel_features =     ['AA Min', 'AA 25% Q', 'AA Mean', 'AA Median', 'AA 75% Q', 'AA Max', 'AA Range', 'AA IQR']\n",
        "derived_bearing_rate_features =   ['BR Min', 'BR 25% Q', 'BR Mean', 'BR Median', 'BR 75% Q', 'BR Max', 'BR Range', 'BR IQR']\n",
        "\n",
        "# another way of formatting names of derived motion features\n",
        "min_features =     ['S Min',    'A Min',    'J Min',    'AV Min',    'AA Min',      'BR Min']\n",
        "q25_features =     ['S 25% Q',  'A 25% Q',  'J 25% Q',  'AV 25% Q',  'AA 25% Q',    'BR 25% Q']\n",
        "mean_features =    ['S Mean',   'A Mean',   'J Mean',   'AV Mean',   'AA Mean',     'BR Mean']\n",
        "median_features =  ['S Median', 'A Median', 'J Median', 'AV Median', 'AA Median',   'BR Median']\n",
        "q75_features =     ['S 75% Q',  'A 75% Q',  'J 75% Q',  'AV 75% Q',  'AA M 25% Q',  'BR 75% Q']\n",
        "max_features =     ['S Max',    'A Max',    'J Max',    'AV Max',    'AA Max',      'BR Max']\n",
        "range_features =   ['S Range',  'A Range',  'J Range',  'AV Range',  'AA Range',    'BR Range']\n",
        "iqr_features =     ['S IQR',    'A IQR',    'J IQR',    'AV IQR',    'AA IQR',      'BR IQR']\n",
        "\n",
        "derived_motion_features =   derived_speed_features + derived_acceleration_features + derived_jerk_features + \\\n",
        "                            derived_alti_velocity_features + derived_bearing_rate_features"
      ],
      "metadata": {
        "id": "yJMxMVHsXN4l"
      },
      "execution_count": null,
      "outputs": []
    },
    {
      "cell_type": "code",
      "source": [
        "# Names of range count features\n",
        "speed_rc_features =         [f'S RC{i}' for i in range(7)]\n",
        "acceleration_rc_features =  [f'A RC{i}' for i in range(7)]\n",
        "jerk_rc_features =          [f'J RC{i}' for i in range(7)]\n",
        "alti_velocity_rc_features = [f'AV RC{i}' for i in range(7)]\n",
        "alti_accel_rc_features =    [f'AA RC{i}' for i in range(7)]\n",
        "bearing_rate_rc_features =  [f'BR RC{i}' for i in range(7)]\n",
        "\n",
        "# Concatenate all range count features\n",
        "range_counts_features =  speed_rc_features + acceleration_rc_features + jerk_rc_features + \\\n",
        "                        alti_velocity_rc_features + bearing_rate_rc_features"
      ],
      "metadata": {
        "id": "3GXD1jciZEqt"
      },
      "execution_count": null,
      "outputs": []
    },
    {
      "cell_type": "code",
      "source": [
        "# Names of all useable features\n",
        "every_feature = raw_motion_features + derived_motion_features + range_counts_features\n",
        "print(every_feature)"
      ],
      "metadata": {
        "colab": {
          "base_uri": "https://localhost:8080/"
        },
        "id": "PQKEaL0Wd-xQ",
        "outputId": "eb5bec34-f607-4014-e59e-8c6070d1af97"
      },
      "execution_count": null,
      "outputs": [
        {
          "output_type": "stream",
          "name": "stdout",
          "text": [
            "['S0', 'S1', 'S2', 'S3', 'S4', 'S5', 'S6', 'S7', 'S8', 'S9', 'S10', 'S11', 'S12', 'A0', 'A1', 'A2', 'A3', 'A4', 'A5', 'A6', 'A7', 'A8', 'A9', 'A10', 'A11', 'A12', 'J0', 'J1', 'J2', 'J3', 'J4', 'J5', 'J6', 'J7', 'J8', 'J9', 'J10', 'J11', 'J12', 'AV0', 'AV1', 'AV2', 'AV3', 'AV4', 'AV5', 'AV6', 'AV7', 'AV8', 'AV9', 'AV10', 'AV11', 'AV12', 'BR0', 'BR1', 'BR2', 'BR3', 'BR4', 'BR5', 'BR6', 'BR7', 'BR8', 'BR9', 'BR10', 'BR11', 'BR12', 'S Min', 'S 25% Q', 'S Mean', 'S Median', 'S 75% Q', 'S Max', 'S Range', 'S IQR', 'A Min', 'A 25% Q', 'A Mean', 'A Median', 'A 75% Q', 'A Max', 'A Range', 'A IQR', 'J Min', 'J 25% Q', 'J Mean', 'J Median', 'J 75% Q', 'J Max', 'J Range', 'J IQR', 'AV Min', 'AV 25% Q', 'AV Mean', 'AV Median', 'AV 75% Q', 'AV Max', 'AV Range', 'AV IQR', 'BR Min', 'BR 25% Q', 'BR Mean', 'BR Median', 'BR 75% Q', 'BR Max', 'BR Range', 'BR IQR', 'S RC0', 'S RC1', 'S RC2', 'S RC3', 'S RC4', 'S RC5', 'S RC6', 'A RC0', 'A RC1', 'A RC2', 'A RC3', 'A RC4', 'A RC5', 'A RC6', 'J RC0', 'J RC1', 'J RC2', 'J RC3', 'J RC4', 'J RC5', 'J RC6', 'AV RC0', 'AV RC1', 'AV RC2', 'AV RC3', 'AV RC4', 'AV RC5', 'AV RC6', 'BR RC0', 'BR RC1', 'BR RC2', 'BR RC3', 'BR RC4', 'BR RC5', 'BR RC6']\n"
          ]
        }
      ]
    },
    {
      "cell_type": "markdown",
      "source": [
        "### **SVM using RBF**"
      ],
      "metadata": {
        "id": "3YeLEHB-y6-k"
      }
    },
    {
      "cell_type": "code",
      "source": [
        "print(groupSize)"
      ],
      "metadata": {
        "colab": {
          "base_uri": "https://localhost:8080/"
        },
        "id": "ywy79XXA37Cb",
        "outputId": "97ed2d9b-b009-4b8d-fc40-14261b811a3a"
      },
      "execution_count": null,
      "outputs": [
        {
          "output_type": "stream",
          "name": "stdout",
          "text": [
            "16\n"
          ]
        }
      ]
    },
    {
      "cell_type": "code",
      "source": [
        "all_features = df[derived_motion_features + range_counts_features]\n",
        "target_feature = df['Mode']\n",
        "# all_features.head()"
      ],
      "metadata": {
        "id": "2N5h_a37MIIC"
      },
      "execution_count": null,
      "outputs": []
    },
    {
      "cell_type": "code",
      "source": [
        "x = all_features.values.astype(float) # returns a numpy array of type float\n",
        "min_max_scaler = preprocessing.MinMaxScaler()\n",
        "x_scaled = min_max_scaler.fit_transform(x)\n",
        "scaled_features = pd.DataFrame(x_scaled)\n",
        "# scaled_features.head()"
      ],
      "metadata": {
        "id": "4ANabtZzLmFW"
      },
      "execution_count": null,
      "outputs": []
    },
    {
      "cell_type": "code",
      "source": [
        "X_train,X_test,y_train,y_test = train_test_split(scaled_features,target_feature,test_size=0.25,random_state=27)\n",
        "X_train.shape,X_test.shape,y_train.shape,y_test.shape"
      ],
      "metadata": {
        "colab": {
          "base_uri": "https://localhost:8080/"
        },
        "id": "G0EWoKppNqzo",
        "outputId": "36365ee2-a689-42da-9945-eb786f976b72"
      },
      "execution_count": null,
      "outputs": [
        {
          "output_type": "execute_result",
          "data": {
            "text/plain": [
              "((25532, 75), (8511, 75), (25532,), (8511,))"
            ]
          },
          "metadata": {},
          "execution_count": 17
        }
      ]
    },
    {
      "cell_type": "code",
      "source": [
        "start_time = time.time()\n",
        "\n",
        "model = SVC(kernel='rbf', gamma='auto')\n",
        "model.fit(X_train,y_train)\n",
        "pred_svm = model.predict(X_test)\n",
        "kfold = KFold(n_splits=10) # k=10, split the data into 10 equal parts\n",
        "result_svm=cross_val_score(model,scaled_features,target_feature,cv=10,scoring='accuracy')\n",
        "print('The overall score for Support Vector machine classifier is:',round(result_svm.mean()*100,2),\"\\n\")\n",
        "\n",
        "time_in_mins = (time.time() - start_time) / 60\n",
        "print(f\"Total processing time: {time_in_mins:.2f} minutes\\n\")\n",
        "\n",
        "y_pred = cross_val_predict(model,scaled_features,target_feature,cv=10)\n",
        "\n",
        "class_labels = model.classes_\n",
        "sns.heatmap(confusion_matrix(y_test, pred_svm),\n",
        "            annot=True,\n",
        "            cmap='summer',\n",
        "            fmt='g',\n",
        "            xticklabels=class_labels,\n",
        "            yticklabels=class_labels)\n",
        "plt.title('Confusion Matrix')\n",
        "plt.xlabel('Predicted')\n",
        "plt.ylabel('Actual')\n",
        "plt.show()"
      ],
      "metadata": {
        "id": "i_p9UG5IK4TC",
        "colab": {
          "base_uri": "https://localhost:8080/",
          "height": 541
        },
        "outputId": "41083570-14f6-4653-cfe4-db0be0f98fca"
      },
      "execution_count": null,
      "outputs": [
        {
          "output_type": "stream",
          "name": "stdout",
          "text": [
            "The overall score for Support Vector machine classifier is: 72.24 \n",
            "\n",
            "Total processing time: 7.81 minutes\n",
            "\n"
          ]
        },
        {
          "output_type": "display_data",
          "data": {
            "text/plain": [
              "<Figure size 640x480 with 2 Axes>"
            ],
            "image/png": "[encoded data removed]"
          },
          "metadata": {}
        }
      ]
    },
    {
      "cell_type": "code",
      "source": [
        "#SVM fold accuracy visualizer\n",
        "_result_svm=[r*100 for r in result_svm]\n",
        "plt.plot(_result_svm)\n",
        "plt.xlabel('Fold')\n",
        "plt.ylabel('Accuracy')"
      ],
      "metadata": {
        "id": "Qu3CyVsPK4OD",
        "colab": {
          "base_uri": "https://localhost:8080/",
          "height": 470
        },
        "outputId": "9f275d85-c7cf-42ee-8d6a-2f2c5001ed66"
      },
      "execution_count": null,
      "outputs": [
        {
          "output_type": "execute_result",
          "data": {
            "text/plain": [
              "Text(0, 0.5, 'Accuracy')"
            ]
          },
          "metadata": {},
          "execution_count": 19
        },
        {
          "output_type": "display_data",
          "data": {
            "text/plain": [
              "<Figure size 640x480 with 1 Axes>"
            ],
            "image/png": "[encoded data removed]"
          },
          "metadata": {}
        }
      ]
    },
    {
      "cell_type": "markdown",
      "source": [
        "### Next Step: ML - Convolutional Neural Network"
      ],
      "metadata": {
        "id": "i3HANsZNLKMM"
      }
    }
  ]
}